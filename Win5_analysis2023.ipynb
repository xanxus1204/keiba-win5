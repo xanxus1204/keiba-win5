{
 "cells": [
  {
   "cell_type": "code",
   "execution_count": 67,
   "id": "db637d0a-bbf3-4def-85ad-4049b9f472b8",
   "metadata": {},
   "outputs": [],
   "source": [
    "import json\n",
    "import pandas as pd\n",
    "import plotly.graph_objects as go\n",
    "import plotly.express as px\n",
    "from collections import defaultdict"
   ]
  },
  {
   "cell_type": "code",
   "execution_count": 68,
   "id": "b3327cfd-5618-461b-bbba-cefea41d69a6",
   "metadata": {},
   "outputs": [],
   "source": [
    "\n",
    "with open('./win5_result.json' , 'r') as jsonf:\n",
    "    result_json = json.load(jsonf)\n",
    "with open('./win5_result_detail.json' , 'r') as jsonf:\n",
    "    result_detail_json = json.load(jsonf)"
   ]
  },
  {
   "cell_type": "code",
   "execution_count": 69,
   "id": "d355627f-8d23-4726-8592-971185c50bf1",
   "metadata": {},
   "outputs": [
    {
     "data": {
      "text/plain": [
       "[1, 2, 3, 4, 5, 6, 7, 8, 9, 10, 11, 12, 13, 14, 15, 16]"
      ]
     },
     "execution_count": 69,
     "metadata": {},
     "output_type": "execute_result"
    }
   ],
   "source": [
    "x = len(result_json['win5_data_list'])\n",
    "x_axis = [i for i  in range(1,x+1)]\n",
    "x_axis"
   ]
  },
  {
   "cell_type": "code",
   "execution_count": 70,
   "id": "b80308ea-a6a0-427c-8f89-48bf71c53c68",
   "metadata": {},
   "outputs": [],
   "source": [
    "def kanji_yen_to_number(kanji_yen):\n",
    "    oku = 0\n",
    "    man = 0\n",
    "    en = 0\n",
    "    if '億' in kanji_yen:\n",
    "        temp = kanji_yen.split('億')\n",
    "        oku = int(temp[0]) * 100000000\n",
    "        kanji_yen = temp[1]\n",
    "    if '万' in kanji_yen:\n",
    "        temp = kanji_yen.split('万')\n",
    "        man = int(temp[0]) * 10000\n",
    "        kanji_yen = temp[1] \n",
    "    en = int(kanji_yen.rstrip('円'))\n",
    "    res = oku + man + en\n",
    "    return res\n",
    "        \n",
    "        "
   ]
  },
  {
   "cell_type": "code",
   "execution_count": 71,
   "id": "8797e0f7-a256-4692-bed5-443fdcce861e",
   "metadata": {},
   "outputs": [
    {
     "name": "stdout",
     "output_type": "stream",
     "text": [
      "Start target win5 20240106\n",
      "牡6\n",
      "58.0\n",
      "丹内\n",
      "2:11.8\n",
      "12.7\n",
      "美浦\n",
      "宮田\n",
      "牡5\n",
      "54.0\n",
      "酒井\n",
      "3:05.3\n",
      "6.2\n",
      "栗東\n",
      "本田\n",
      "牡3\n",
      "57.0\n",
      "キング\n",
      "1:32.5\n",
      "3.8\n",
      "栗東\n",
      "松永幹\n",
      "牡4\n",
      "54.0\n",
      "岩田康\n",
      "1:33.8\n",
      "16.5\n",
      "栗東\n",
      "中竹\n",
      "牡5\n",
      "56.0\n",
      "津村\n",
      "1:58.9\n",
      "7.8\n",
      "栗東\n",
      "田中克\n",
      "Start target win5 20240107\n",
      "牡5\n",
      "58.0\n",
      "ルメー\n",
      "2:00.0\n",
      "5.2\n",
      "美浦\n",
      "池上\n",
      "牡5\n",
      "58.0\n",
      "横山典\n",
      "1:22.5\n",
      "4.5\n",
      "栗東\n",
      "安田隆\n",
      "牡5\n",
      "57.0\n",
      "大野\n",
      "1:52.9\n",
      "5.9\n",
      "美浦\n",
      "高木\n",
      "牡5\n",
      "57.0\n",
      "川田\n",
      "1:24.5\n",
      "11.2\n",
      "栗東\n",
      "奥村豊\n",
      "牝3\n",
      "55.0\n",
      "西村淳\n",
      "1:34.0\n",
      "12.6\n",
      "栗東\n",
      "杉山佳\n",
      "Start target win5 20240108\n",
      "牡4\n",
      "57.0\n",
      "横山武\n",
      "2:38.9\n",
      "3.9\n",
      "美浦\n",
      "加藤士\n",
      "牡5\n",
      "58.0\n",
      "岩田望\n",
      "2:00.3\n",
      "21.9\n",
      "栗東\n",
      "上村\n",
      "牡4\n",
      "56.0\n",
      "横山和\n",
      "1:54.3\n",
      "2.4\n",
      "栗東\n",
      "野中\n",
      "牡3\n",
      "57.0\n",
      "川田\n",
      "1:34.5\n",
      "4.9\n",
      "栗東\n",
      "吉岡\n",
      "セ6\n",
      "58.0\n",
      "大野\n",
      "1:07.8\n",
      "15.4\n",
      "美浦\n",
      "大竹\n",
      "Start target win5 20240114\n",
      "牡4\n",
      "57.0\n",
      "武豊\n",
      "1:51.8\n",
      "1.3\n",
      "栗東\n",
      "斉藤崇\n",
      "牡5\n",
      "56.0\n",
      "戸崎圭\n",
      "1:10.8\n",
      "6.4\n",
      "栗東\n",
      "岡田\n",
      "牡6\n",
      "58.0\n",
      "斎藤\n",
      "1:44.2\n",
      "4.9\n",
      "栗東\n",
      "池添\n",
      "牡5\n",
      "57.0\n",
      "菅原明\n",
      "2:23.7\n",
      "4.1\n",
      "美浦\n",
      "中野\n",
      "牡3\n",
      "57.0\n",
      "横山典\n",
      "2:00.5\n",
      "11.5\n",
      "栗東\n",
      "安田翔\n",
      "Start target win5 20240121\n",
      "牡5\n",
      "58.0\n",
      "酒井\n",
      "1:10.2\n",
      "14.8\n",
      "栗東\n",
      "吉田\n",
      "牡6\n",
      "58.0\n",
      "松岡\n",
      "1:50.6\n",
      "12.3\n",
      "栗東\n",
      "森秀\n",
      "牡5\n",
      "57.0\n",
      "富田\n",
      "1:42.2\n",
      "3.4\n",
      "栗東\n",
      "平田\n",
      "牡6\n",
      "57.0\n",
      "坂井\n",
      "1:49.2\n",
      "5.5\n",
      "栗東\n",
      "上村\n",
      "セ6\n",
      "57.0\n",
      "キング\n",
      "2:16.6\n",
      "6.5\n",
      "美浦\n",
      "堀\n",
      "Start target win5 20240128\n",
      "牡4\n",
      "57.0\n",
      "ルメー\n",
      "2:12.7\n",
      "4.3\n",
      "美浦\n",
      "木村\n",
      "牡4\n",
      "57.0\n",
      "川田\n",
      "1:32.5\n",
      "2.3\n",
      "栗東\n",
      "高橋忠\n",
      "牡4\n",
      "56.0\n",
      "丹内\n",
      "1:09.0\n",
      "13.7\n",
      "栗東\n",
      "寺島\n",
      "牡4\n",
      "57.5\n",
      "西村淳\n",
      "1:07.7\n",
      "3.3\n",
      "栗東\n",
      "杉山晴\n",
      "牡4\n",
      "56.0\n",
      "川田\n",
      "1:24.1\n",
      "2.5\n",
      "栗東\n",
      "杉山晴\n",
      "Start target win5 20240204\n",
      "牡5\n",
      "57.0\n",
      "西村淳\n",
      "1:11.0\n",
      "5.2\n",
      "栗東\n",
      "岡田\n",
      "牡4\n",
      "58.0\n",
      "ルメー\n",
      "1:36.5\n",
      "1.5\n",
      "美浦\n",
      "木村\n",
      "セ8\n",
      "58.0\n",
      "富田\n",
      "2:04.1\n",
      "2.4\n",
      "栗東\n",
      "野中\n",
      "牡3\n",
      "57.0\n",
      "ピーヒ\n",
      "1:46.8\n",
      "2.3\n",
      "栗東\n",
      "坂口\n",
      "牡7\n",
      "57.0\n",
      "キング\n",
      "1:32.1\n",
      "33.8\n",
      "美浦\n",
      "堀\n",
      "Start target win5 20240211\n",
      "牡5\n",
      "55.0\n",
      "岩田康\n",
      "1:52.1\n",
      "90.4\n",
      "美浦\n",
      "武井\n",
      "牡9\n",
      "58.0\n",
      "吉田豊\n",
      "1:24.0\n",
      "14.0\n",
      "美浦\n",
      "鹿戸\n",
      "牡6\n",
      "57.0\n",
      "丸山\n",
      "1:08.0\n",
      "10.9\n",
      "栗東\n",
      "中尾\n",
      "牡5\n",
      "58.0\n",
      "池添\n",
      "2:12.1\n",
      "4.0\n",
      "栗東\n",
      "池添\n",
      "牡3\n",
      "57.0\n",
      "戸崎圭\n",
      "1:48.0\n",
      "6.6\n",
      "栗東\n",
      "友道\n",
      "Start target win5 20240218\n",
      "牡5\n",
      "58.0\n",
      "Ｍデム\n",
      "1:33.0\n",
      "3.1\n",
      "栗東\n",
      "辻野\n",
      "牡5\n",
      "58.0\n",
      "戸崎圭\n",
      "2:01.8\n",
      "2.6\n",
      "栗東\n",
      "友道\n",
      "牡5\n",
      "57.0\n",
      "杉原\n",
      "1:45.1\n",
      "5.8\n",
      "美浦\n",
      "宮田\n",
      "牡5\n",
      "58.0\n",
      "団野\n",
      "1:10.7\n",
      "16.4\n",
      "美浦\n",
      "奥村武\n",
      "牡6\n",
      "58.0\n",
      "藤岡佑\n",
      "1:35.7\n",
      "38.0\n",
      "栗東\n",
      "武英\n",
      "Start target win5 20240225\n",
      "牝3\n",
      "56.0\n",
      "和田竜\n",
      "1:09.4\n",
      "5.1\n",
      "栗東\n",
      "小栗\n",
      "牡4\n",
      "56.0\n",
      "戸崎圭\n",
      "1:10.1\n",
      "2.5\n",
      "栗東\n",
      "森秀\n",
      "牡4\n",
      "58.0\n",
      "北村友\n",
      "1:09.0\n",
      "7.7\n",
      "栗東\n",
      "庄野\n",
      "牡5\n",
      "58.0\n",
      "松山\n",
      "1:21.2\n",
      "3.4\n",
      "美浦\n",
      "深山\n",
      "セ5\n",
      "57.0\n",
      "横山典\n",
      "1:48.1\n",
      "16.1\n",
      "栗東\n",
      "松永幹\n",
      "Start target win5 20240303\n",
      "牡4\n",
      "57.0\n",
      "和田竜\n",
      "1:20.7\n",
      "3.9\n",
      "美浦\n",
      "鹿戸\n",
      "牡6\n",
      "57.0\n",
      "キング\n",
      "1:51.6\n",
      "12.4\n",
      "栗東\n",
      "大久保\n",
      "牡4\n",
      "58.0\n",
      "田口\n",
      "2:01.7\n",
      "3.0\n",
      "栗東\n",
      "大橋\n",
      "牡6\n",
      "58.5\n",
      "酒井\n",
      "1:45.4\n",
      "7.7\n",
      "栗東\n",
      "須貝\n",
      "牡3\n",
      "57.0\n",
      "Ｍデム\n",
      "1:59.8\n",
      "34.9\n",
      "美浦\n",
      "加藤士\n",
      "Start target win5 20240310\n",
      "牡5\n",
      "57.0\n",
      "ムルザ\n",
      "2:06.1\n",
      "4.1\n",
      "栗東\n",
      "大久保\n",
      "牡5\n",
      "57.0\n",
      "北村宏\n",
      "1:33.4\n",
      "4.5\n",
      "栗東\n",
      "辻野\n",
      "牡6\n",
      "58.0\n",
      "川田\n",
      "1:57.6\n",
      "2.7\n",
      "栗東\n",
      "中内田\n",
      "牝3\n",
      "55.0\n",
      "藤岡佑\n",
      "1:20.1\n",
      "35.2\n",
      "栗東\n",
      "藤岡\n",
      "牝3\n",
      "55.0\n",
      "大野\n",
      "1:34.6\n",
      "5.4\n",
      "美浦\n",
      "上原博\n",
      "Start target win5 20240317\n",
      "セ4\n",
      "58.0\n",
      "川田\n",
      "1:24.0\n",
      "1.9\n",
      "栗東\n",
      "吉岡\n",
      "セ6\n",
      "56.0\n",
      "津村\n",
      "1:11.2\n",
      "11.1\n",
      "栗東\n",
      "野中\n",
      "牡5\n",
      "58.0\n",
      "丸山\n",
      "1:52.0\n",
      "10.6\n",
      "栗東\n",
      "梅田\n",
      "牡6\n",
      "57.0\n",
      "菱田\n",
      "3:06.8\n",
      "3.3\n",
      "栗東\n",
      "岡田\n",
      "牡3\n",
      "57.0\n",
      "ルメー\n",
      "1:49.4\n",
      "2.9\n",
      "美浦\n",
      "国枝\n",
      "Start target win5 20240324\n",
      "セ5\n",
      "57.0\n",
      "岩田望\n",
      "1:32.9\n",
      "4.4\n",
      "美浦\n",
      "堀\n",
      "牡4\n",
      "58.0\n",
      "川田\n",
      "1:50.4\n",
      "5.7\n",
      "栗東\n",
      "浜田\n",
      "牡5\n",
      "57.0\n",
      "吉村\n",
      "1:34.3\n",
      "18.7\n",
      "栗東\n",
      "清水久\n",
      "牡5\n",
      "57.0\n",
      "斎藤\n",
      "1:50.7\n",
      "11.4\n",
      "美浦\n",
      "高木\n",
      "牡5\n",
      "58.0\n",
      "坂井\n",
      "1:08.9\n",
      "9.6\n",
      "栗東\n",
      "池添\n",
      "Start target win5 20240331\n",
      "牡3\n",
      "57.0\n",
      "松山\n",
      "1:24.5\n",
      "6.7\n",
      "栗東\n",
      "宮本\n",
      "牝5\n",
      "56.0\n",
      "田辺\n",
      "1:53.1\n",
      "12.6\n",
      "栗東\n",
      "須貝\n",
      "牡4\n",
      "58.0\n",
      "鮫島駿\n",
      "1:20.4\n",
      "4.9\n",
      "栗東\n",
      "牧田\n",
      "牡5\n",
      "58.0\n",
      "松岡\n",
      "1:58.7\n",
      "2.1\n",
      "美浦\n",
      "戸田\n",
      "牡4\n",
      "58.0\n",
      "横山和\n",
      "1:58.2\n",
      "5.5\n",
      "栗東\n",
      "上村\n",
      "Start target win5 20240407\n",
      "牡4\n",
      "58.0\n",
      "戸崎圭\n",
      "2:01.8\n",
      "2.0\n",
      "栗東\n",
      "吉岡\n",
      "牝5\n",
      "55.0\n",
      "川田\n",
      "1:58.8\n",
      "4.1\n",
      "栗東\n",
      "福永\n",
      "牡4\n",
      "58.0\n",
      "斎藤\n",
      "1:07.7\n",
      "1.5\n",
      "美浦\n",
      "斎藤誠\n",
      "牡5\n",
      "57.0\n",
      "吉田豊\n",
      "1:09.8\n",
      "3.3\n",
      "美浦\n",
      "堀\n",
      "牝3\n",
      "55.0\n",
      "モレイ\n",
      "1:32.2\n",
      "4.3\n",
      "美浦\n",
      "国枝\n"
     ]
    }
   ],
   "source": [
    "populuar_sum = []\n",
    "odds_sum = []\n",
    "refunds = []\n",
    "refunds_kanji = []\n",
    "jockey_win_nums = defaultdict(int)\n",
    "for data in result_json['win5_data_list']:\n",
    "    print('Start target win5 ' + data['win5_id'])\n",
    "    refund = data['refund']\n",
    "    win5_detail_dict = result_detail_json['win5_data_race_detail']\n",
    "    odds_5race_sum = 0\n",
    "    for race_num in range(1,6): \n",
    "        target_data = next((item for item in win5_detail_dict if item[\"race_id\"] == data['win{}_race_id'.format(race_num)]), None)\n",
    "        print(target_data['win_horse_age'])\n",
    "        print(target_data['win_horse_jockey_weight'])\n",
    "        print(target_data['win_horse_jockey'])\n",
    "        jockey_win_nums[target_data['win_horse_jockey']]+=1\n",
    "        print(target_data['win_horse_time'])\n",
    "        print(target_data['win_horse_odds'])\n",
    "        odds_5race_sum += float(target_data['win_horse_odds'])\n",
    "        print(target_data['win_horse_home_center'])\n",
    "        print(target_data['win_horse_trainer'])\n",
    "    odds_sum.append(odds_5race_sum)\n",
    "    refunds_kanji.append(refund)\n",
    "    refunds.append(kanji_yen_to_number(refund))\n",
    "    populuar_sum.append(sum(data['popular']))"
   ]
  },
  {
   "cell_type": "code",
   "execution_count": 95,
   "id": "1a280613-95e9-4cb3-b594-ec6086b8c29d",
   "metadata": {},
   "outputs": [],
   "source": [
    "sorted_jockey_win_nums = sorted(jockey_win_nums.items(),  key = lambda item : item[1], reverse=True)"
   ]
  },
  {
   "cell_type": "code",
   "execution_count": 122,
   "id": "8619208e-3202-4196-8839-9becb13da7b2",
   "metadata": {},
   "outputs": [
    {
     "data": {
      "application/vnd.plotly.v1+json": {
       "config": {
        "plotlyServerURL": "https://plot.ly"
       },
       "data": [
        {
         "marker": {
          "color": [
           8,
           5,
           4,
           4,
           3,
           3,
           3,
           3,
           3,
           2,
           2,
           2,
           2,
           2,
           2,
           2,
           2,
           2,
           2,
           2,
           2,
           2,
           2,
           1,
           1,
           1,
           1,
           1,
           1,
           1,
           1,
           1,
           1,
           1,
           1,
           1,
           1,
           1,
           1
          ],
          "colorscale": [
           [
            0,
            "rgb(247,252,245)"
           ],
           [
            0.125,
            "rgb(229,245,224)"
           ],
           [
            0.25,
            "rgb(199,233,192)"
           ],
           [
            0.375,
            "rgb(161,217,155)"
           ],
           [
            0.5,
            "rgb(116,196,118)"
           ],
           [
            0.625,
            "rgb(65,171,93)"
           ],
           [
            0.75,
            "rgb(35,139,69)"
           ],
           [
            0.875,
            "rgb(0,109,44)"
           ],
           [
            1,
            "rgb(0,68,27)"
           ]
          ]
         },
         "name": "勝利数",
         "type": "bar",
         "x": [
          "川田",
          "戸崎圭",
          "キング",
          "ルメー",
          "酒井",
          "横山典",
          "大野",
          "西村淳",
          "斎藤",
          "丹内",
          "岩田康",
          "津村",
          "岩田望",
          "横山和",
          "松岡",
          "富田",
          "坂井",
          "吉田豊",
          "丸山",
          "Ｍデム",
          "藤岡佑",
          "和田竜",
          "松山",
          "横山武",
          "武豊",
          "菅原明",
          "ピーヒ",
          "池添",
          "杉原",
          "団野",
          "北村友",
          "田口",
          "ムルザ",
          "北村宏",
          "菱田",
          "吉村",
          "田辺",
          "鮫島駿",
          "モレイ"
         ],
         "y": [
          8,
          5,
          4,
          4,
          3,
          3,
          3,
          3,
          3,
          2,
          2,
          2,
          2,
          2,
          2,
          2,
          2,
          2,
          2,
          2,
          2,
          2,
          2,
          1,
          1,
          1,
          1,
          1,
          1,
          1,
          1,
          1,
          1,
          1,
          1,
          1,
          1,
          1,
          1
         ]
        }
       ],
       "layout": {
        "autosize": true,
        "template": {
         "data": {
          "bar": [
           {
            "error_x": {
             "color": "#2a3f5f"
            },
            "error_y": {
             "color": "#2a3f5f"
            },
            "marker": {
             "line": {
              "color": "#E5ECF6",
              "width": 0.5
             },
             "pattern": {
              "fillmode": "overlay",
              "size": 10,
              "solidity": 0.2
             }
            },
            "type": "bar"
           }
          ],
          "barpolar": [
           {
            "marker": {
             "line": {
              "color": "#E5ECF6",
              "width": 0.5
             },
             "pattern": {
              "fillmode": "overlay",
              "size": 10,
              "solidity": 0.2
             }
            },
            "type": "barpolar"
           }
          ],
          "carpet": [
           {
            "aaxis": {
             "endlinecolor": "#2a3f5f",
             "gridcolor": "white",
             "linecolor": "white",
             "minorgridcolor": "white",
             "startlinecolor": "#2a3f5f"
            },
            "baxis": {
             "endlinecolor": "#2a3f5f",
             "gridcolor": "white",
             "linecolor": "white",
             "minorgridcolor": "white",
             "startlinecolor": "#2a3f5f"
            },
            "type": "carpet"
           }
          ],
          "choropleth": [
           {
            "colorbar": {
             "outlinewidth": 0,
             "ticks": ""
            },
            "type": "choropleth"
           }
          ],
          "contour": [
           {
            "colorbar": {
             "outlinewidth": 0,
             "ticks": ""
            },
            "colorscale": [
             [
              0,
              "#0d0887"
             ],
             [
              0.1111111111111111,
              "#46039f"
             ],
             [
              0.2222222222222222,
              "#7201a8"
             ],
             [
              0.3333333333333333,
              "#9c179e"
             ],
             [
              0.4444444444444444,
              "#bd3786"
             ],
             [
              0.5555555555555556,
              "#d8576b"
             ],
             [
              0.6666666666666666,
              "#ed7953"
             ],
             [
              0.7777777777777778,
              "#fb9f3a"
             ],
             [
              0.8888888888888888,
              "#fdca26"
             ],
             [
              1,
              "#f0f921"
             ]
            ],
            "type": "contour"
           }
          ],
          "contourcarpet": [
           {
            "colorbar": {
             "outlinewidth": 0,
             "ticks": ""
            },
            "type": "contourcarpet"
           }
          ],
          "heatmap": [
           {
            "colorbar": {
             "outlinewidth": 0,
             "ticks": ""
            },
            "colorscale": [
             [
              0,
              "#0d0887"
             ],
             [
              0.1111111111111111,
              "#46039f"
             ],
             [
              0.2222222222222222,
              "#7201a8"
             ],
             [
              0.3333333333333333,
              "#9c179e"
             ],
             [
              0.4444444444444444,
              "#bd3786"
             ],
             [
              0.5555555555555556,
              "#d8576b"
             ],
             [
              0.6666666666666666,
              "#ed7953"
             ],
             [
              0.7777777777777778,
              "#fb9f3a"
             ],
             [
              0.8888888888888888,
              "#fdca26"
             ],
             [
              1,
              "#f0f921"
             ]
            ],
            "type": "heatmap"
           }
          ],
          "heatmapgl": [
           {
            "colorbar": {
             "outlinewidth": 0,
             "ticks": ""
            },
            "colorscale": [
             [
              0,
              "#0d0887"
             ],
             [
              0.1111111111111111,
              "#46039f"
             ],
             [
              0.2222222222222222,
              "#7201a8"
             ],
             [
              0.3333333333333333,
              "#9c179e"
             ],
             [
              0.4444444444444444,
              "#bd3786"
             ],
             [
              0.5555555555555556,
              "#d8576b"
             ],
             [
              0.6666666666666666,
              "#ed7953"
             ],
             [
              0.7777777777777778,
              "#fb9f3a"
             ],
             [
              0.8888888888888888,
              "#fdca26"
             ],
             [
              1,
              "#f0f921"
             ]
            ],
            "type": "heatmapgl"
           }
          ],
          "histogram": [
           {
            "marker": {
             "pattern": {
              "fillmode": "overlay",
              "size": 10,
              "solidity": 0.2
             }
            },
            "type": "histogram"
           }
          ],
          "histogram2d": [
           {
            "colorbar": {
             "outlinewidth": 0,
             "ticks": ""
            },
            "colorscale": [
             [
              0,
              "#0d0887"
             ],
             [
              0.1111111111111111,
              "#46039f"
             ],
             [
              0.2222222222222222,
              "#7201a8"
             ],
             [
              0.3333333333333333,
              "#9c179e"
             ],
             [
              0.4444444444444444,
              "#bd3786"
             ],
             [
              0.5555555555555556,
              "#d8576b"
             ],
             [
              0.6666666666666666,
              "#ed7953"
             ],
             [
              0.7777777777777778,
              "#fb9f3a"
             ],
             [
              0.8888888888888888,
              "#fdca26"
             ],
             [
              1,
              "#f0f921"
             ]
            ],
            "type": "histogram2d"
           }
          ],
          "histogram2dcontour": [
           {
            "colorbar": {
             "outlinewidth": 0,
             "ticks": ""
            },
            "colorscale": [
             [
              0,
              "#0d0887"
             ],
             [
              0.1111111111111111,
              "#46039f"
             ],
             [
              0.2222222222222222,
              "#7201a8"
             ],
             [
              0.3333333333333333,
              "#9c179e"
             ],
             [
              0.4444444444444444,
              "#bd3786"
             ],
             [
              0.5555555555555556,
              "#d8576b"
             ],
             [
              0.6666666666666666,
              "#ed7953"
             ],
             [
              0.7777777777777778,
              "#fb9f3a"
             ],
             [
              0.8888888888888888,
              "#fdca26"
             ],
             [
              1,
              "#f0f921"
             ]
            ],
            "type": "histogram2dcontour"
           }
          ],
          "mesh3d": [
           {
            "colorbar": {
             "outlinewidth": 0,
             "ticks": ""
            },
            "type": "mesh3d"
           }
          ],
          "parcoords": [
           {
            "line": {
             "colorbar": {
              "outlinewidth": 0,
              "ticks": ""
             }
            },
            "type": "parcoords"
           }
          ],
          "pie": [
           {
            "automargin": true,
            "type": "pie"
           }
          ],
          "scatter": [
           {
            "fillpattern": {
             "fillmode": "overlay",
             "size": 10,
             "solidity": 0.2
            },
            "type": "scatter"
           }
          ],
          "scatter3d": [
           {
            "line": {
             "colorbar": {
              "outlinewidth": 0,
              "ticks": ""
             }
            },
            "marker": {
             "colorbar": {
              "outlinewidth": 0,
              "ticks": ""
             }
            },
            "type": "scatter3d"
           }
          ],
          "scattercarpet": [
           {
            "marker": {
             "colorbar": {
              "outlinewidth": 0,
              "ticks": ""
             }
            },
            "type": "scattercarpet"
           }
          ],
          "scattergeo": [
           {
            "marker": {
             "colorbar": {
              "outlinewidth": 0,
              "ticks": ""
             }
            },
            "type": "scattergeo"
           }
          ],
          "scattergl": [
           {
            "marker": {
             "colorbar": {
              "outlinewidth": 0,
              "ticks": ""
             }
            },
            "type": "scattergl"
           }
          ],
          "scattermapbox": [
           {
            "marker": {
             "colorbar": {
              "outlinewidth": 0,
              "ticks": ""
             }
            },
            "type": "scattermapbox"
           }
          ],
          "scatterpolar": [
           {
            "marker": {
             "colorbar": {
              "outlinewidth": 0,
              "ticks": ""
             }
            },
            "type": "scatterpolar"
           }
          ],
          "scatterpolargl": [
           {
            "marker": {
             "colorbar": {
              "outlinewidth": 0,
              "ticks": ""
             }
            },
            "type": "scatterpolargl"
           }
          ],
          "scatterternary": [
           {
            "marker": {
             "colorbar": {
              "outlinewidth": 0,
              "ticks": ""
             }
            },
            "type": "scatterternary"
           }
          ],
          "surface": [
           {
            "colorbar": {
             "outlinewidth": 0,
             "ticks": ""
            },
            "colorscale": [
             [
              0,
              "#0d0887"
             ],
             [
              0.1111111111111111,
              "#46039f"
             ],
             [
              0.2222222222222222,
              "#7201a8"
             ],
             [
              0.3333333333333333,
              "#9c179e"
             ],
             [
              0.4444444444444444,
              "#bd3786"
             ],
             [
              0.5555555555555556,
              "#d8576b"
             ],
             [
              0.6666666666666666,
              "#ed7953"
             ],
             [
              0.7777777777777778,
              "#fb9f3a"
             ],
             [
              0.8888888888888888,
              "#fdca26"
             ],
             [
              1,
              "#f0f921"
             ]
            ],
            "type": "surface"
           }
          ],
          "table": [
           {
            "cells": {
             "fill": {
              "color": "#EBF0F8"
             },
             "line": {
              "color": "white"
             }
            },
            "header": {
             "fill": {
              "color": "#C8D4E3"
             },
             "line": {
              "color": "white"
             }
            },
            "type": "table"
           }
          ]
         },
         "layout": {
          "annotationdefaults": {
           "arrowcolor": "#2a3f5f",
           "arrowhead": 0,
           "arrowwidth": 1
          },
          "autotypenumbers": "strict",
          "coloraxis": {
           "colorbar": {
            "outlinewidth": 0,
            "ticks": ""
           }
          },
          "colorscale": {
           "diverging": [
            [
             0,
             "#8e0152"
            ],
            [
             0.1,
             "#c51b7d"
            ],
            [
             0.2,
             "#de77ae"
            ],
            [
             0.3,
             "#f1b6da"
            ],
            [
             0.4,
             "#fde0ef"
            ],
            [
             0.5,
             "#f7f7f7"
            ],
            [
             0.6,
             "#e6f5d0"
            ],
            [
             0.7,
             "#b8e186"
            ],
            [
             0.8,
             "#7fbc41"
            ],
            [
             0.9,
             "#4d9221"
            ],
            [
             1,
             "#276419"
            ]
           ],
           "sequential": [
            [
             0,
             "#0d0887"
            ],
            [
             0.1111111111111111,
             "#46039f"
            ],
            [
             0.2222222222222222,
             "#7201a8"
            ],
            [
             0.3333333333333333,
             "#9c179e"
            ],
            [
             0.4444444444444444,
             "#bd3786"
            ],
            [
             0.5555555555555556,
             "#d8576b"
            ],
            [
             0.6666666666666666,
             "#ed7953"
            ],
            [
             0.7777777777777778,
             "#fb9f3a"
            ],
            [
             0.8888888888888888,
             "#fdca26"
            ],
            [
             1,
             "#f0f921"
            ]
           ],
           "sequentialminus": [
            [
             0,
             "#0d0887"
            ],
            [
             0.1111111111111111,
             "#46039f"
            ],
            [
             0.2222222222222222,
             "#7201a8"
            ],
            [
             0.3333333333333333,
             "#9c179e"
            ],
            [
             0.4444444444444444,
             "#bd3786"
            ],
            [
             0.5555555555555556,
             "#d8576b"
            ],
            [
             0.6666666666666666,
             "#ed7953"
            ],
            [
             0.7777777777777778,
             "#fb9f3a"
            ],
            [
             0.8888888888888888,
             "#fdca26"
            ],
            [
             1,
             "#f0f921"
            ]
           ]
          },
          "colorway": [
           "#636efa",
           "#EF553B",
           "#00cc96",
           "#ab63fa",
           "#FFA15A",
           "#19d3f3",
           "#FF6692",
           "#B6E880",
           "#FF97FF",
           "#FECB52"
          ],
          "font": {
           "color": "#2a3f5f"
          },
          "geo": {
           "bgcolor": "white",
           "lakecolor": "white",
           "landcolor": "#E5ECF6",
           "showlakes": true,
           "showland": true,
           "subunitcolor": "white"
          },
          "hoverlabel": {
           "align": "left"
          },
          "hovermode": "closest",
          "mapbox": {
           "style": "light"
          },
          "paper_bgcolor": "white",
          "plot_bgcolor": "#E5ECF6",
          "polar": {
           "angularaxis": {
            "gridcolor": "white",
            "linecolor": "white",
            "ticks": ""
           },
           "bgcolor": "#E5ECF6",
           "radialaxis": {
            "gridcolor": "white",
            "linecolor": "white",
            "ticks": ""
           }
          },
          "scene": {
           "xaxis": {
            "backgroundcolor": "#E5ECF6",
            "gridcolor": "white",
            "gridwidth": 2,
            "linecolor": "white",
            "showbackground": true,
            "ticks": "",
            "zerolinecolor": "white"
           },
           "yaxis": {
            "backgroundcolor": "#E5ECF6",
            "gridcolor": "white",
            "gridwidth": 2,
            "linecolor": "white",
            "showbackground": true,
            "ticks": "",
            "zerolinecolor": "white"
           },
           "zaxis": {
            "backgroundcolor": "#E5ECF6",
            "gridcolor": "white",
            "gridwidth": 2,
            "linecolor": "white",
            "showbackground": true,
            "ticks": "",
            "zerolinecolor": "white"
           }
          },
          "shapedefaults": {
           "line": {
            "color": "#2a3f5f"
           }
          },
          "ternary": {
           "aaxis": {
            "gridcolor": "white",
            "linecolor": "white",
            "ticks": ""
           },
           "baxis": {
            "gridcolor": "white",
            "linecolor": "white",
            "ticks": ""
           },
           "bgcolor": "#E5ECF6",
           "caxis": {
            "gridcolor": "white",
            "linecolor": "white",
            "ticks": ""
           }
          },
          "title": {
           "x": 0.05
          },
          "xaxis": {
           "automargin": true,
           "gridcolor": "white",
           "linecolor": "white",
           "ticks": "",
           "title": {
            "standoff": 15
           },
           "zerolinecolor": "white",
           "zerolinewidth": 2
          },
          "yaxis": {
           "automargin": true,
           "gridcolor": "white",
           "linecolor": "white",
           "ticks": "",
           "title": {
            "standoff": 15
           },
           "zerolinecolor": "white",
           "zerolinewidth": 2
          }
         }
        },
        "xaxis": {
         "autorange": true,
         "range": [
          -0.5,
          38.5
         ],
         "type": "category"
        },
        "yaxis": {
         "autorange": true,
         "range": [
          0,
          8.421052631578947
         ],
         "side": "left",
         "title": {
          "text": "WIN5対象レース勝利数"
         },
         "type": "linear"
        }
       }
      },
      "image/png": "[encoded data removed]",
      "text/html": [
       "<div>                            <div id=\"2b637c0a-3efc-432a-8990-6e88dd0fab91\" class=\"plotly-graph-div\" style=\"height:525px; width:100%;\"></div>            <script type=\"text/javascript\">                require([\"plotly\"], function(Plotly) {                    window.PLOTLYENV=window.PLOTLYENV || {};                                    if (document.getElementById(\"2b637c0a-3efc-432a-8990-6e88dd0fab91\")) {                    Plotly.newPlot(                        \"2b637c0a-3efc-432a-8990-6e88dd0fab91\",                        [{\"marker\":{\"color\":[8,5,4,4,3,3,3,3,3,2,2,2,2,2,2,2,2,2,2,2,2,2,2,1,1,1,1,1,1,1,1,1,1,1,1,1,1,1,1],\"colorscale\":[[0.0,\"rgb(247,252,245)\"],[0.125,\"rgb(229,245,224)\"],[0.25,\"rgb(199,233,192)\"],[0.375,\"rgb(161,217,155)\"],[0.5,\"rgb(116,196,118)\"],[0.625,\"rgb(65,171,93)\"],[0.75,\"rgb(35,139,69)\"],[0.875,\"rgb(0,109,44)\"],[1.0,\"rgb(0,68,27)\"]]},\"name\":\"\\u52dd\\u5229\\u6570\",\"x\":[\"\\u5ddd\\u7530\",\"\\u6238\\u5d0e\\u572d\",\"\\u30ad\\u30f3\\u30b0\",\"\\u30eb\\u30e1\\u30fc\",\"\\u9152\\u4e95\",\"\\u6a2a\\u5c71\\u5178\",\"\\u5927\\u91ce\",\"\\u897f\\u6751\\u6df3\",\"\\u658e\\u85e4\",\"\\u4e39\\u5185\",\"\\u5ca9\\u7530\\u5eb7\",\"\\u6d25\\u6751\",\"\\u5ca9\\u7530\\u671b\",\"\\u6a2a\\u5c71\\u548c\",\"\\u677e\\u5ca1\",\"\\u5bcc\\u7530\",\"\\u5742\\u4e95\",\"\\u5409\\u7530\\u8c4a\",\"\\u4e38\\u5c71\",\"\\uff2d\\u30c7\\u30e0\",\"\\u85e4\\u5ca1\\u4f51\",\"\\u548c\\u7530\\u7adc\",\"\\u677e\\u5c71\",\"\\u6a2a\\u5c71\\u6b66\",\"\\u6b66\\u8c4a\",\"\\u83c5\\u539f\\u660e\",\"\\u30d4\\u30fc\\u30d2\",\"\\u6c60\\u6dfb\",\"\\u6749\\u539f\",\"\\u56e3\\u91ce\",\"\\u5317\\u6751\\u53cb\",\"\\u7530\\u53e3\",\"\\u30e0\\u30eb\\u30b6\",\"\\u5317\\u6751\\u5b8f\",\"\\u83f1\\u7530\",\"\\u5409\\u6751\",\"\\u7530\\u8fba\",\"\\u9bab\\u5cf6\\u99ff\",\"\\u30e2\\u30ec\\u30a4\"],\"y\":[8,5,4,4,3,3,3,3,3,2,2,2,2,2,2,2,2,2,2,2,2,2,2,1,1,1,1,1,1,1,1,1,1,1,1,1,1,1,1],\"type\":\"bar\"}],                        {\"template\":{\"data\":{\"histogram2dcontour\":[{\"type\":\"histogram2dcontour\",\"colorbar\":{\"outlinewidth\":0,\"ticks\":\"\"},\"colorscale\":[[0.0,\"#0d0887\"],[0.1111111111111111,\"#46039f\"],[0.2222222222222222,\"#7201a8\"],[0.3333333333333333,\"#9c179e\"],[0.4444444444444444,\"#bd3786\"],[0.5555555555555556,\"#d8576b\"],[0.6666666666666666,\"#ed7953\"],[0.7777777777777778,\"#fb9f3a\"],[0.8888888888888888,\"#fdca26\"],[1.0,\"#f0f921\"]]}],\"choropleth\":[{\"type\":\"choropleth\",\"colorbar\":{\"outlinewidth\":0,\"ticks\":\"\"}}],\"histogram2d\":[{\"type\":\"histogram2d\",\"colorbar\":{\"outlinewidth\":0,\"ticks\":\"\"},\"colorscale\":[[0.0,\"#0d0887\"],[0.1111111111111111,\"#46039f\"],[0.2222222222222222,\"#7201a8\"],[0.3333333333333333,\"#9c179e\"],[0.4444444444444444,\"#bd3786\"],[0.5555555555555556,\"#d8576b\"],[0.6666666666666666,\"#ed7953\"],[0.7777777777777778,\"#fb9f3a\"],[0.8888888888888888,\"#fdca26\"],[1.0,\"#f0f921\"]]}],\"heatmap\":[{\"type\":\"heatmap\",\"colorbar\":{\"outlinewidth\":0,\"ticks\":\"\"},\"colorscale\":[[0.0,\"#0d0887\"],[0.1111111111111111,\"#46039f\"],[0.2222222222222222,\"#7201a8\"],[0.3333333333333333,\"#9c179e\"],[0.4444444444444444,\"#bd3786\"],[0.5555555555555556,\"#d8576b\"],[0.6666666666666666,\"#ed7953\"],[0.7777777777777778,\"#fb9f3a\"],[0.8888888888888888,\"#fdca26\"],[1.0,\"#f0f921\"]]}],\"heatmapgl\":[{\"type\":\"heatmapgl\",\"colorbar\":{\"outlinewidth\":0,\"ticks\":\"\"},\"colorscale\":[[0.0,\"#0d0887\"],[0.1111111111111111,\"#46039f\"],[0.2222222222222222,\"#7201a8\"],[0.3333333333333333,\"#9c179e\"],[0.4444444444444444,\"#bd3786\"],[0.5555555555555556,\"#d8576b\"],[0.6666666666666666,\"#ed7953\"],[0.7777777777777778,\"#fb9f3a\"],[0.8888888888888888,\"#fdca26\"],[1.0,\"#f0f921\"]]}],\"contourcarpet\":[{\"type\":\"contourcarpet\",\"colorbar\":{\"outlinewidth\":0,\"ticks\":\"\"}}],\"contour\":[{\"type\":\"contour\",\"colorbar\":{\"outlinewidth\":0,\"ticks\":\"\"},\"colorscale\":[[0.0,\"#0d0887\"],[0.1111111111111111,\"#46039f\"],[0.2222222222222222,\"#7201a8\"],[0.3333333333333333,\"#9c179e\"],[0.4444444444444444,\"#bd3786\"],[0.5555555555555556,\"#d8576b\"],[0.6666666666666666,\"#ed7953\"],[0.7777777777777778,\"#fb9f3a\"],[0.8888888888888888,\"#fdca26\"],[1.0,\"#f0f921\"]]}],\"surface\":[{\"type\":\"surface\",\"colorbar\":{\"outlinewidth\":0,\"ticks\":\"\"},\"colorscale\":[[0.0,\"#0d0887\"],[0.1111111111111111,\"#46039f\"],[0.2222222222222222,\"#7201a8\"],[0.3333333333333333,\"#9c179e\"],[0.4444444444444444,\"#bd3786\"],[0.5555555555555556,\"#d8576b\"],[0.6666666666666666,\"#ed7953\"],[0.7777777777777778,\"#fb9f3a\"],[0.8888888888888888,\"#fdca26\"],[1.0,\"#f0f921\"]]}],\"mesh3d\":[{\"type\":\"mesh3d\",\"colorbar\":{\"outlinewidth\":0,\"ticks\":\"\"}}],\"scatter\":[{\"fillpattern\":{\"fillmode\":\"overlay\",\"size\":10,\"solidity\":0.2},\"type\":\"scatter\"}],\"parcoords\":[{\"type\":\"parcoords\",\"line\":{\"colorbar\":{\"outlinewidth\":0,\"ticks\":\"\"}}}],\"scatterpolargl\":[{\"type\":\"scatterpolargl\",\"marker\":{\"colorbar\":{\"outlinewidth\":0,\"ticks\":\"\"}}}],\"bar\":[{\"error_x\":{\"color\":\"#2a3f5f\"},\"error_y\":{\"color\":\"#2a3f5f\"},\"marker\":{\"line\":{\"color\":\"#E5ECF6\",\"width\":0.5},\"pattern\":{\"fillmode\":\"overlay\",\"size\":10,\"solidity\":0.2}},\"type\":\"bar\"}],\"scattergeo\":[{\"type\":\"scattergeo\",\"marker\":{\"colorbar\":{\"outlinewidth\":0,\"ticks\":\"\"}}}],\"scatterpolar\":[{\"type\":\"scatterpolar\",\"marker\":{\"colorbar\":{\"outlinewidth\":0,\"ticks\":\"\"}}}],\"histogram\":[{\"marker\":{\"pattern\":{\"fillmode\":\"overlay\",\"size\":10,\"solidity\":0.2}},\"type\":\"histogram\"}],\"scattergl\":[{\"type\":\"scattergl\",\"marker\":{\"colorbar\":{\"outlinewidth\":0,\"ticks\":\"\"}}}],\"scatter3d\":[{\"type\":\"scatter3d\",\"line\":{\"colorbar\":{\"outlinewidth\":0,\"ticks\":\"\"}},\"marker\":{\"colorbar\":{\"outlinewidth\":0,\"ticks\":\"\"}}}],\"scattermapbox\":[{\"type\":\"scattermapbox\",\"marker\":{\"colorbar\":{\"outlinewidth\":0,\"ticks\":\"\"}}}],\"scatterternary\":[{\"type\":\"scatterternary\",\"marker\":{\"colorbar\":{\"outlinewidth\":0,\"ticks\":\"\"}}}],\"scattercarpet\":[{\"type\":\"scattercarpet\",\"marker\":{\"colorbar\":{\"outlinewidth\":0,\"ticks\":\"\"}}}],\"carpet\":[{\"aaxis\":{\"endlinecolor\":\"#2a3f5f\",\"gridcolor\":\"white\",\"linecolor\":\"white\",\"minorgridcolor\":\"white\",\"startlinecolor\":\"#2a3f5f\"},\"baxis\":{\"endlinecolor\":\"#2a3f5f\",\"gridcolor\":\"white\",\"linecolor\":\"white\",\"minorgridcolor\":\"white\",\"startlinecolor\":\"#2a3f5f\"},\"type\":\"carpet\"}],\"table\":[{\"cells\":{\"fill\":{\"color\":\"#EBF0F8\"},\"line\":{\"color\":\"white\"}},\"header\":{\"fill\":{\"color\":\"#C8D4E3\"},\"line\":{\"color\":\"white\"}},\"type\":\"table\"}],\"barpolar\":[{\"marker\":{\"line\":{\"color\":\"#E5ECF6\",\"width\":0.5},\"pattern\":{\"fillmode\":\"overlay\",\"size\":10,\"solidity\":0.2}},\"type\":\"barpolar\"}],\"pie\":[{\"automargin\":true,\"type\":\"pie\"}]},\"layout\":{\"autotypenumbers\":\"strict\",\"colorway\":[\"#636efa\",\"#EF553B\",\"#00cc96\",\"#ab63fa\",\"#FFA15A\",\"#19d3f3\",\"#FF6692\",\"#B6E880\",\"#FF97FF\",\"#FECB52\"],\"font\":{\"color\":\"#2a3f5f\"},\"hovermode\":\"closest\",\"hoverlabel\":{\"align\":\"left\"},\"paper_bgcolor\":\"white\",\"plot_bgcolor\":\"#E5ECF6\",\"polar\":{\"bgcolor\":\"#E5ECF6\",\"angularaxis\":{\"gridcolor\":\"white\",\"linecolor\":\"white\",\"ticks\":\"\"},\"radialaxis\":{\"gridcolor\":\"white\",\"linecolor\":\"white\",\"ticks\":\"\"}},\"ternary\":{\"bgcolor\":\"#E5ECF6\",\"aaxis\":{\"gridcolor\":\"white\",\"linecolor\":\"white\",\"ticks\":\"\"},\"baxis\":{\"gridcolor\":\"white\",\"linecolor\":\"white\",\"ticks\":\"\"},\"caxis\":{\"gridcolor\":\"white\",\"linecolor\":\"white\",\"ticks\":\"\"}},\"coloraxis\":{\"colorbar\":{\"outlinewidth\":0,\"ticks\":\"\"}},\"colorscale\":{\"sequential\":[[0.0,\"#0d0887\"],[0.1111111111111111,\"#46039f\"],[0.2222222222222222,\"#7201a8\"],[0.3333333333333333,\"#9c179e\"],[0.4444444444444444,\"#bd3786\"],[0.5555555555555556,\"#d8576b\"],[0.6666666666666666,\"#ed7953\"],[0.7777777777777778,\"#fb9f3a\"],[0.8888888888888888,\"#fdca26\"],[1.0,\"#f0f921\"]],\"sequentialminus\":[[0.0,\"#0d0887\"],[0.1111111111111111,\"#46039f\"],[0.2222222222222222,\"#7201a8\"],[0.3333333333333333,\"#9c179e\"],[0.4444444444444444,\"#bd3786\"],[0.5555555555555556,\"#d8576b\"],[0.6666666666666666,\"#ed7953\"],[0.7777777777777778,\"#fb9f3a\"],[0.8888888888888888,\"#fdca26\"],[1.0,\"#f0f921\"]],\"diverging\":[[0,\"#8e0152\"],[0.1,\"#c51b7d\"],[0.2,\"#de77ae\"],[0.3,\"#f1b6da\"],[0.4,\"#fde0ef\"],[0.5,\"#f7f7f7\"],[0.6,\"#e6f5d0\"],[0.7,\"#b8e186\"],[0.8,\"#7fbc41\"],[0.9,\"#4d9221\"],[1,\"#276419\"]]},\"xaxis\":{\"gridcolor\":\"white\",\"linecolor\":\"white\",\"ticks\":\"\",\"title\":{\"standoff\":15},\"zerolinecolor\":\"white\",\"automargin\":true,\"zerolinewidth\":2},\"yaxis\":{\"gridcolor\":\"white\",\"linecolor\":\"white\",\"ticks\":\"\",\"title\":{\"standoff\":15},\"zerolinecolor\":\"white\",\"automargin\":true,\"zerolinewidth\":2},\"scene\":{\"xaxis\":{\"backgroundcolor\":\"#E5ECF6\",\"gridcolor\":\"white\",\"linecolor\":\"white\",\"showbackground\":true,\"ticks\":\"\",\"zerolinecolor\":\"white\",\"gridwidth\":2},\"yaxis\":{\"backgroundcolor\":\"#E5ECF6\",\"gridcolor\":\"white\",\"linecolor\":\"white\",\"showbackground\":true,\"ticks\":\"\",\"zerolinecolor\":\"white\",\"gridwidth\":2},\"zaxis\":{\"backgroundcolor\":\"#E5ECF6\",\"gridcolor\":\"white\",\"linecolor\":\"white\",\"showbackground\":true,\"ticks\":\"\",\"zerolinecolor\":\"white\",\"gridwidth\":2}},\"shapedefaults\":{\"line\":{\"color\":\"#2a3f5f\"}},\"annotationdefaults\":{\"arrowcolor\":\"#2a3f5f\",\"arrowhead\":0,\"arrowwidth\":1},\"geo\":{\"bgcolor\":\"white\",\"landcolor\":\"#E5ECF6\",\"subunitcolor\":\"white\",\"showland\":true,\"showlakes\":true,\"lakecolor\":\"white\"},\"title\":{\"x\":0.05},\"mapbox\":{\"style\":\"light\"}}},\"yaxis\":{\"title\":{\"text\":\"WIN5\\u5bfe\\u8c61\\u30ec\\u30fc\\u30b9\\u52dd\\u5229\\u6570\"},\"side\":\"left\"}},                        {\"responsive\": true}                    ).then(function(){\n",
       "                            \n",
       "var gd = document.getElementById('2b637c0a-3efc-432a-8990-6e88dd0fab91');\n",
       "var x = new MutationObserver(function (mutations, observer) {{\n",
       "        var display = window.getComputedStyle(gd).display;\n",
       "        if (!display || display === 'none') {{\n",
       "            console.log([gd, 'removed!']);\n",
       "            Plotly.purge(gd);\n",
       "            observer.disconnect();\n",
       "        }}\n",
       "}});\n",
       "\n",
       "// Listen for the removal of the full notebook cells\n",
       "var notebookContainer = gd.closest('#notebook-container');\n",
       "if (notebookContainer) {{\n",
       "    x.observe(notebookContainer, {childList: true});\n",
       "}}\n",
       "\n",
       "// Listen for the clearing of the current output cell\n",
       "var outputEl = gd.closest('.output');\n",
       "if (outputEl) {{\n",
       "    x.observe(outputEl, {childList: true});\n",
       "}}\n",
       "\n",
       "                        })                };                });            </script>        </div>"
      ]
     },
     "metadata": {},
     "output_type": "display_data"
    }
   ],
   "source": [
    "jockey_names = [i[0] for i in sorted_jockey_win_nums]\n",
    "jockey_wins = [i[1] for i in sorted_jockey_win_nums]\n",
    "fig = go.Figure(\n",
    "        data=go.Bar(\n",
    "            x=jockey_names,\n",
    "            y=jockey_wins,\n",
    "            name=\"勝利数\",\n",
    "            marker=dict(color=jockey_wins,\n",
    "                colorscale=px.colors.sequential.Greens)\n",
    "        )\n",
    "    )\n",
    "fig.update_layout(\n",
    "    yaxis=dict(\n",
    "        title=dict(text=\"WIN5対象レース勝利数\"),\n",
    "        side=\"left\"\n",
    "    ),\n",
    "    # plot_bgcolor='Black'\n",
    ")\n",
    "fig.show()"
   ]
  },
  {
   "cell_type": "code",
   "execution_count": 74,
   "id": "9a660454-8716-4d5a-9458-4785add0b11e",
   "metadata": {},
   "outputs": [
    {
     "data": {
      "application/vnd.plotly.v1+json": {
       "config": {
        "plotlyServerURL": "https://plot.ly"
       },
       "data": [
        {
         "marker": {
          "color": "green"
         },
         "name": "オッズの和",
         "type": "bar",
         "x": [
          1,
          2,
          3,
          4,
          5,
          6,
          7,
          8,
          9,
          10,
          11,
          12,
          13,
          14,
          15,
          16
         ],
         "y": [
          47,
          39.4,
          48.49999999999999,
          28.200000000000003,
          42.5,
          26.099999999999998,
          45.199999999999996,
          125.9,
          65.9,
          34.8,
          61.9,
          51.9,
          29.8,
          49.800000000000004,
          31.800000000000004,
          15.2
         ]
        },
        {
         "hovertext": [
          "648万1930円",
          "611万3160円",
          "750万8270円",
          "45万7050円",
          "310万1590円",
          "34万7220円",
          "43万7070円",
          "2億5179万7070円",
          "726万5020円",
          "186万6620円",
          "2077万5110円",
          "191万9310円",
          "66万2790円",
          "541万1710円",
          "71万3790円",
          "2万600円"
         ],
         "marker": {
          "color": "crimson"
         },
         "name": "払戻金",
         "type": "scatter",
         "x": [
          1,
          2,
          3,
          4,
          5,
          6,
          7,
          8,
          9,
          10,
          11,
          12,
          13,
          14,
          15,
          16
         ],
         "y": [
          6481930,
          6113160,
          7508270,
          457050,
          3101590,
          347220,
          437070,
          251797070,
          7265020,
          1866620,
          20775110,
          1919310,
          662790,
          5411710,
          713790,
          20600
         ],
         "yaxis": "y2"
        }
       ],
       "layout": {
        "autosize": true,
        "legend": {
         "orientation": "h"
        },
        "template": {
         "data": {
          "bar": [
           {
            "error_x": {
             "color": "#2a3f5f"
            },
            "error_y": {
             "color": "#2a3f5f"
            },
            "marker": {
             "line": {
              "color": "#E5ECF6",
              "width": 0.5
             },
             "pattern": {
              "fillmode": "overlay",
              "size": 10,
              "solidity": 0.2
             }
            },
            "type": "bar"
           }
          ],
          "barpolar": [
           {
            "marker": {
             "line": {
              "color": "#E5ECF6",
              "width": 0.5
             },
             "pattern": {
              "fillmode": "overlay",
              "size": 10,
              "solidity": 0.2
             }
            },
            "type": "barpolar"
           }
          ],
          "carpet": [
           {
            "aaxis": {
             "endlinecolor": "#2a3f5f",
             "gridcolor": "white",
             "linecolor": "white",
             "minorgridcolor": "white",
             "startlinecolor": "#2a3f5f"
            },
            "baxis": {
             "endlinecolor": "#2a3f5f",
             "gridcolor": "white",
             "linecolor": "white",
             "minorgridcolor": "white",
             "startlinecolor": "#2a3f5f"
            },
            "type": "carpet"
           }
          ],
          "choropleth": [
           {
            "colorbar": {
             "outlinewidth": 0,
             "ticks": ""
            },
            "type": "choropleth"
           }
          ],
          "contour": [
           {
            "colorbar": {
             "outlinewidth": 0,
             "ticks": ""
            },
            "colorscale": [
             [
              0,
              "#0d0887"
             ],
             [
              0.1111111111111111,
              "#46039f"
             ],
             [
              0.2222222222222222,
              "#7201a8"
             ],
             [
              0.3333333333333333,
              "#9c179e"
             ],
             [
              0.4444444444444444,
              "#bd3786"
             ],
             [
              0.5555555555555556,
              "#d8576b"
             ],
             [
              0.6666666666666666,
              "#ed7953"
             ],
             [
              0.7777777777777778,
              "#fb9f3a"
             ],
             [
              0.8888888888888888,
              "#fdca26"
             ],
             [
              1,
              "#f0f921"
             ]
            ],
            "type": "contour"
           }
          ],
          "contourcarpet": [
           {
            "colorbar": {
             "outlinewidth": 0,
             "ticks": ""
            },
            "type": "contourcarpet"
           }
          ],
          "heatmap": [
           {
            "colorbar": {
             "outlinewidth": 0,
             "ticks": ""
            },
            "colorscale": [
             [
              0,
              "#0d0887"
             ],
             [
              0.1111111111111111,
              "#46039f"
             ],
             [
              0.2222222222222222,
              "#7201a8"
             ],
             [
              0.3333333333333333,
              "#9c179e"
             ],
             [
              0.4444444444444444,
              "#bd3786"
             ],
             [
              0.5555555555555556,
              "#d8576b"
             ],
             [
              0.6666666666666666,
              "#ed7953"
             ],
             [
              0.7777777777777778,
              "#fb9f3a"
             ],
             [
              0.8888888888888888,
              "#fdca26"
             ],
             [
              1,
              "#f0f921"
             ]
            ],
            "type": "heatmap"
           }
          ],
          "heatmapgl": [
           {
            "colorbar": {
             "outlinewidth": 0,
             "ticks": ""
            },
            "colorscale": [
             [
              0,
              "#0d0887"
             ],
             [
              0.1111111111111111,
              "#46039f"
             ],
             [
              0.2222222222222222,
              "#7201a8"
             ],
             [
              0.3333333333333333,
              "#9c179e"
             ],
             [
              0.4444444444444444,
              "#bd3786"
             ],
             [
              0.5555555555555556,
              "#d8576b"
             ],
             [
              0.6666666666666666,
              "#ed7953"
             ],
             [
              0.7777777777777778,
              "#fb9f3a"
             ],
             [
              0.8888888888888888,
              "#fdca26"
             ],
             [
              1,
              "#f0f921"
             ]
            ],
            "type": "heatmapgl"
           }
          ],
          "histogram": [
           {
            "marker": {
             "pattern": {
              "fillmode": "overlay",
              "size": 10,
              "solidity": 0.2
             }
            },
            "type": "histogram"
           }
          ],
          "histogram2d": [
           {
            "colorbar": {
             "outlinewidth": 0,
             "ticks": ""
            },
            "colorscale": [
             [
              0,
              "#0d0887"
             ],
             [
              0.1111111111111111,
              "#46039f"
             ],
             [
              0.2222222222222222,
              "#7201a8"
             ],
             [
              0.3333333333333333,
              "#9c179e"
             ],
             [
              0.4444444444444444,
              "#bd3786"
             ],
             [
              0.5555555555555556,
              "#d8576b"
             ],
             [
              0.6666666666666666,
              "#ed7953"
             ],
             [
              0.7777777777777778,
              "#fb9f3a"
             ],
             [
              0.8888888888888888,
              "#fdca26"
             ],
             [
              1,
              "#f0f921"
             ]
            ],
            "type": "histogram2d"
           }
          ],
          "histogram2dcontour": [
           {
            "colorbar": {
             "outlinewidth": 0,
             "ticks": ""
            },
            "colorscale": [
             [
              0,
              "#0d0887"
             ],
             [
              0.1111111111111111,
              "#46039f"
             ],
             [
              0.2222222222222222,
              "#7201a8"
             ],
             [
              0.3333333333333333,
              "#9c179e"
             ],
             [
              0.4444444444444444,
              "#bd3786"
             ],
             [
              0.5555555555555556,
              "#d8576b"
             ],
             [
              0.6666666666666666,
              "#ed7953"
             ],
             [
              0.7777777777777778,
              "#fb9f3a"
             ],
             [
              0.8888888888888888,
              "#fdca26"
             ],
             [
              1,
              "#f0f921"
             ]
            ],
            "type": "histogram2dcontour"
           }
          ],
          "mesh3d": [
           {
            "colorbar": {
             "outlinewidth": 0,
             "ticks": ""
            },
            "type": "mesh3d"
           }
          ],
          "parcoords": [
           {
            "line": {
             "colorbar": {
              "outlinewidth": 0,
              "ticks": ""
             }
            },
            "type": "parcoords"
           }
          ],
          "pie": [
           {
            "automargin": true,
            "type": "pie"
           }
          ],
          "scatter": [
           {
            "fillpattern": {
             "fillmode": "overlay",
             "size": 10,
             "solidity": 0.2
            },
            "type": "scatter"
           }
          ],
          "scatter3d": [
           {
            "line": {
             "colorbar": {
              "outlinewidth": 0,
              "ticks": ""
             }
            },
            "marker": {
             "colorbar": {
              "outlinewidth": 0,
              "ticks": ""
             }
            },
            "type": "scatter3d"
           }
          ],
          "scattercarpet": [
           {
            "marker": {
             "colorbar": {
              "outlinewidth": 0,
              "ticks": ""
             }
            },
            "type": "scattercarpet"
           }
          ],
          "scattergeo": [
           {
            "marker": {
             "colorbar": {
              "outlinewidth": 0,
              "ticks": ""
             }
            },
            "type": "scattergeo"
           }
          ],
          "scattergl": [
           {
            "marker": {
             "colorbar": {
              "outlinewidth": 0,
              "ticks": ""
             }
            },
            "type": "scattergl"
           }
          ],
          "scattermapbox": [
           {
            "marker": {
             "colorbar": {
              "outlinewidth": 0,
              "ticks": ""
             }
            },
            "type": "scattermapbox"
           }
          ],
          "scatterpolar": [
           {
            "marker": {
             "colorbar": {
              "outlinewidth": 0,
              "ticks": ""
             }
            },
            "type": "scatterpolar"
           }
          ],
          "scatterpolargl": [
           {
            "marker": {
             "colorbar": {
              "outlinewidth": 0,
              "ticks": ""
             }
            },
            "type": "scatterpolargl"
           }
          ],
          "scatterternary": [
           {
            "marker": {
             "colorbar": {
              "outlinewidth": 0,
              "ticks": ""
             }
            },
            "type": "scatterternary"
           }
          ],
          "surface": [
           {
            "colorbar": {
             "outlinewidth": 0,
             "ticks": ""
            },
            "colorscale": [
             [
              0,
              "#0d0887"
             ],
             [
              0.1111111111111111,
              "#46039f"
             ],
             [
              0.2222222222222222,
              "#7201a8"
             ],
             [
              0.3333333333333333,
              "#9c179e"
             ],
             [
              0.4444444444444444,
              "#bd3786"
             ],
             [
              0.5555555555555556,
              "#d8576b"
             ],
             [
              0.6666666666666666,
              "#ed7953"
             ],
             [
              0.7777777777777778,
              "#fb9f3a"
             ],
             [
              0.8888888888888888,
              "#fdca26"
             ],
             [
              1,
              "#f0f921"
             ]
            ],
            "type": "surface"
           }
          ],
          "table": [
           {
            "cells": {
             "fill": {
              "color": "#EBF0F8"
             },
             "line": {
              "color": "white"
             }
            },
            "header": {
             "fill": {
              "color": "#C8D4E3"
             },
             "line": {
              "color": "white"
             }
            },
            "type": "table"
           }
          ]
         },
         "layout": {
          "annotationdefaults": {
           "arrowcolor": "#2a3f5f",
           "arrowhead": 0,
           "arrowwidth": 1
          },
          "autotypenumbers": "strict",
          "coloraxis": {
           "colorbar": {
            "outlinewidth": 0,
            "ticks": ""
           }
          },
          "colorscale": {
           "diverging": [
            [
             0,
             "#8e0152"
            ],
            [
             0.1,
             "#c51b7d"
            ],
            [
             0.2,
             "#de77ae"
            ],
            [
             0.3,
             "#f1b6da"
            ],
            [
             0.4,
             "#fde0ef"
            ],
            [
             0.5,
             "#f7f7f7"
            ],
            [
             0.6,
             "#e6f5d0"
            ],
            [
             0.7,
             "#b8e186"
            ],
            [
             0.8,
             "#7fbc41"
            ],
            [
             0.9,
             "#4d9221"
            ],
            [
             1,
             "#276419"
            ]
           ],
           "sequential": [
            [
             0,
             "#0d0887"
            ],
            [
             0.1111111111111111,
             "#46039f"
            ],
            [
             0.2222222222222222,
             "#7201a8"
            ],
            [
             0.3333333333333333,
             "#9c179e"
            ],
            [
             0.4444444444444444,
             "#bd3786"
            ],
            [
             0.5555555555555556,
             "#d8576b"
            ],
            [
             0.6666666666666666,
             "#ed7953"
            ],
            [
             0.7777777777777778,
             "#fb9f3a"
            ],
            [
             0.8888888888888888,
             "#fdca26"
            ],
            [
             1,
             "#f0f921"
            ]
           ],
           "sequentialminus": [
            [
             0,
             "#0d0887"
            ],
            [
             0.1111111111111111,
             "#46039f"
            ],
            [
             0.2222222222222222,
             "#7201a8"
            ],
            [
             0.3333333333333333,
             "#9c179e"
            ],
            [
             0.4444444444444444,
             "#bd3786"
            ],
            [
             0.5555555555555556,
             "#d8576b"
            ],
            [
             0.6666666666666666,
             "#ed7953"
            ],
            [
             0.7777777777777778,
             "#fb9f3a"
            ],
            [
             0.8888888888888888,
             "#fdca26"
            ],
            [
             1,
             "#f0f921"
            ]
           ]
          },
          "colorway": [
           "#636efa",
           "#EF553B",
           "#00cc96",
           "#ab63fa",
           "#FFA15A",
           "#19d3f3",
           "#FF6692",
           "#B6E880",
           "#FF97FF",
           "#FECB52"
          ],
          "font": {
           "color": "#2a3f5f"
          },
          "geo": {
           "bgcolor": "white",
           "lakecolor": "white",
           "landcolor": "#E5ECF6",
           "showlakes": true,
           "showland": true,
           "subunitcolor": "white"
          },
          "hoverlabel": {
           "align": "left"
          },
          "hovermode": "closest",
          "mapbox": {
           "style": "light"
          },
          "paper_bgcolor": "white",
          "plot_bgcolor": "#E5ECF6",
          "polar": {
           "angularaxis": {
            "gridcolor": "white",
            "linecolor": "white",
            "ticks": ""
           },
           "bgcolor": "#E5ECF6",
           "radialaxis": {
            "gridcolor": "white",
            "linecolor": "white",
            "ticks": ""
           }
          },
          "scene": {
           "xaxis": {
            "backgroundcolor": "#E5ECF6",
            "gridcolor": "white",
            "gridwidth": 2,
            "linecolor": "white",
            "showbackground": true,
            "ticks": "",
            "zerolinecolor": "white"
           },
           "yaxis": {
            "backgroundcolor": "#E5ECF6",
            "gridcolor": "white",
            "gridwidth": 2,
            "linecolor": "white",
            "showbackground": true,
            "ticks": "",
            "zerolinecolor": "white"
           },
           "zaxis": {
            "backgroundcolor": "#E5ECF6",
            "gridcolor": "white",
            "gridwidth": 2,
            "linecolor": "white",
            "showbackground": true,
            "ticks": "",
            "zerolinecolor": "white"
           }
          },
          "shapedefaults": {
           "line": {
            "color": "#2a3f5f"
           }
          },
          "ternary": {
           "aaxis": {
            "gridcolor": "white",
            "linecolor": "white",
            "ticks": ""
           },
           "baxis": {
            "gridcolor": "white",
            "linecolor": "white",
            "ticks": ""
           },
           "bgcolor": "#E5ECF6",
           "caxis": {
            "gridcolor": "white",
            "linecolor": "white",
            "ticks": ""
           }
          },
          "title": {
           "x": 0.05
          },
          "xaxis": {
           "automargin": true,
           "gridcolor": "white",
           "linecolor": "white",
           "ticks": "",
           "title": {
            "standoff": 15
           },
           "zerolinecolor": "white",
           "zerolinewidth": 2
          },
          "yaxis": {
           "automargin": true,
           "gridcolor": "white",
           "linecolor": "white",
           "ticks": "",
           "title": {
            "standoff": 15
           },
           "zerolinecolor": "white",
           "zerolinewidth": 2
          }
         }
        },
        "xaxis": {
         "autorange": true,
         "range": [
          0.09148321905449286,
          16.908516780945508
         ],
         "type": "linear"
        },
        "yaxis": {
         "autorange": true,
         "range": [
          0,
          132.5263157894737
         ],
         "side": "left",
         "title": {
          "text": "オッズの和"
         },
         "type": "linear"
        },
        "yaxis2": {
         "autorange": true,
         "overlaying": "y",
         "range": [
          3.976575382111545,
          8.73834251045425
         ],
         "side": "right",
         "tickmode": "sync",
         "title": {
          "text": "払戻金"
         },
         "type": "log"
        }
       }
      },
      "image/png": "[encoded data removed]",
      "text/html": [
       "<div>                            <div id=\"db4b9582-b30b-47d9-80c4-b24e256e6414\" class=\"plotly-graph-div\" style=\"height:525px; width:100%;\"></div>            <script type=\"text/javascript\">                require([\"plotly\"], function(Plotly) {                    window.PLOTLYENV=window.PLOTLYENV || {};                                    if (document.getElementById(\"db4b9582-b30b-47d9-80c4-b24e256e6414\")) {                    Plotly.newPlot(                        \"db4b9582-b30b-47d9-80c4-b24e256e6414\",                        [{\"marker\":{\"color\":\"green\"},\"name\":\"\\u30aa\\u30c3\\u30ba\\u306e\\u548c\",\"x\":[1,2,3,4,5,6,7,8,9,10,11,12,13,14,15,16],\"y\":[47.0,39.4,48.49999999999999,28.200000000000003,42.5,26.099999999999998,45.199999999999996,125.9,65.9,34.8,61.9,51.9,29.8,49.800000000000004,31.800000000000004,15.2],\"type\":\"bar\"},{\"hovertext\":[\"648\\u4e071930\\u5186\",\"611\\u4e073160\\u5186\",\"750\\u4e078270\\u5186\",\"45\\u4e077050\\u5186\",\"310\\u4e071590\\u5186\",\"34\\u4e077220\\u5186\",\"43\\u4e077070\\u5186\",\"2\\u51045179\\u4e077070\\u5186\",\"726\\u4e075020\\u5186\",\"186\\u4e076620\\u5186\",\"2077\\u4e075110\\u5186\",\"191\\u4e079310\\u5186\",\"66\\u4e072790\\u5186\",\"541\\u4e071710\\u5186\",\"71\\u4e073790\\u5186\",\"2\\u4e07600\\u5186\"],\"marker\":{\"color\":\"crimson\"},\"name\":\"\\u6255\\u623b\\u91d1\",\"x\":[1,2,3,4,5,6,7,8,9,10,11,12,13,14,15,16],\"y\":[6481930,6113160,7508270,457050,3101590,347220,437070,251797070,7265020,1866620,20775110,1919310,662790,5411710,713790,20600],\"yaxis\":\"y2\",\"type\":\"scatter\"}],                        {\"template\":{\"data\":{\"histogram2dcontour\":[{\"type\":\"histogram2dcontour\",\"colorbar\":{\"outlinewidth\":0,\"ticks\":\"\"},\"colorscale\":[[0.0,\"#0d0887\"],[0.1111111111111111,\"#46039f\"],[0.2222222222222222,\"#7201a8\"],[0.3333333333333333,\"#9c179e\"],[0.4444444444444444,\"#bd3786\"],[0.5555555555555556,\"#d8576b\"],[0.6666666666666666,\"#ed7953\"],[0.7777777777777778,\"#fb9f3a\"],[0.8888888888888888,\"#fdca26\"],[1.0,\"#f0f921\"]]}],\"choropleth\":[{\"type\":\"choropleth\",\"colorbar\":{\"outlinewidth\":0,\"ticks\":\"\"}}],\"histogram2d\":[{\"type\":\"histogram2d\",\"colorbar\":{\"outlinewidth\":0,\"ticks\":\"\"},\"colorscale\":[[0.0,\"#0d0887\"],[0.1111111111111111,\"#46039f\"],[0.2222222222222222,\"#7201a8\"],[0.3333333333333333,\"#9c179e\"],[0.4444444444444444,\"#bd3786\"],[0.5555555555555556,\"#d8576b\"],[0.6666666666666666,\"#ed7953\"],[0.7777777777777778,\"#fb9f3a\"],[0.8888888888888888,\"#fdca26\"],[1.0,\"#f0f921\"]]}],\"heatmap\":[{\"type\":\"heatmap\",\"colorbar\":{\"outlinewidth\":0,\"ticks\":\"\"},\"colorscale\":[[0.0,\"#0d0887\"],[0.1111111111111111,\"#46039f\"],[0.2222222222222222,\"#7201a8\"],[0.3333333333333333,\"#9c179e\"],[0.4444444444444444,\"#bd3786\"],[0.5555555555555556,\"#d8576b\"],[0.6666666666666666,\"#ed7953\"],[0.7777777777777778,\"#fb9f3a\"],[0.8888888888888888,\"#fdca26\"],[1.0,\"#f0f921\"]]}],\"heatmapgl\":[{\"type\":\"heatmapgl\",\"colorbar\":{\"outlinewidth\":0,\"ticks\":\"\"},\"colorscale\":[[0.0,\"#0d0887\"],[0.1111111111111111,\"#46039f\"],[0.2222222222222222,\"#7201a8\"],[0.3333333333333333,\"#9c179e\"],[0.4444444444444444,\"#bd3786\"],[0.5555555555555556,\"#d8576b\"],[0.6666666666666666,\"#ed7953\"],[0.7777777777777778,\"#fb9f3a\"],[0.8888888888888888,\"#fdca26\"],[1.0,\"#f0f921\"]]}],\"contourcarpet\":[{\"type\":\"contourcarpet\",\"colorbar\":{\"outlinewidth\":0,\"ticks\":\"\"}}],\"contour\":[{\"type\":\"contour\",\"colorbar\":{\"outlinewidth\":0,\"ticks\":\"\"},\"colorscale\":[[0.0,\"#0d0887\"],[0.1111111111111111,\"#46039f\"],[0.2222222222222222,\"#7201a8\"],[0.3333333333333333,\"#9c179e\"],[0.4444444444444444,\"#bd3786\"],[0.5555555555555556,\"#d8576b\"],[0.6666666666666666,\"#ed7953\"],[0.7777777777777778,\"#fb9f3a\"],[0.8888888888888888,\"#fdca26\"],[1.0,\"#f0f921\"]]}],\"surface\":[{\"type\":\"surface\",\"colorbar\":{\"outlinewidth\":0,\"ticks\":\"\"},\"colorscale\":[[0.0,\"#0d0887\"],[0.1111111111111111,\"#46039f\"],[0.2222222222222222,\"#7201a8\"],[0.3333333333333333,\"#9c179e\"],[0.4444444444444444,\"#bd3786\"],[0.5555555555555556,\"#d8576b\"],[0.6666666666666666,\"#ed7953\"],[0.7777777777777778,\"#fb9f3a\"],[0.8888888888888888,\"#fdca26\"],[1.0,\"#f0f921\"]]}],\"mesh3d\":[{\"type\":\"mesh3d\",\"colorbar\":{\"outlinewidth\":0,\"ticks\":\"\"}}],\"scatter\":[{\"fillpattern\":{\"fillmode\":\"overlay\",\"size\":10,\"solidity\":0.2},\"type\":\"scatter\"}],\"parcoords\":[{\"type\":\"parcoords\",\"line\":{\"colorbar\":{\"outlinewidth\":0,\"ticks\":\"\"}}}],\"scatterpolargl\":[{\"type\":\"scatterpolargl\",\"marker\":{\"colorbar\":{\"outlinewidth\":0,\"ticks\":\"\"}}}],\"bar\":[{\"error_x\":{\"color\":\"#2a3f5f\"},\"error_y\":{\"color\":\"#2a3f5f\"},\"marker\":{\"line\":{\"color\":\"#E5ECF6\",\"width\":0.5},\"pattern\":{\"fillmode\":\"overlay\",\"size\":10,\"solidity\":0.2}},\"type\":\"bar\"}],\"scattergeo\":[{\"type\":\"scattergeo\",\"marker\":{\"colorbar\":{\"outlinewidth\":0,\"ticks\":\"\"}}}],\"scatterpolar\":[{\"type\":\"scatterpolar\",\"marker\":{\"colorbar\":{\"outlinewidth\":0,\"ticks\":\"\"}}}],\"histogram\":[{\"marker\":{\"pattern\":{\"fillmode\":\"overlay\",\"size\":10,\"solidity\":0.2}},\"type\":\"histogram\"}],\"scattergl\":[{\"type\":\"scattergl\",\"marker\":{\"colorbar\":{\"outlinewidth\":0,\"ticks\":\"\"}}}],\"scatter3d\":[{\"type\":\"scatter3d\",\"line\":{\"colorbar\":{\"outlinewidth\":0,\"ticks\":\"\"}},\"marker\":{\"colorbar\":{\"outlinewidth\":0,\"ticks\":\"\"}}}],\"scattermapbox\":[{\"type\":\"scattermapbox\",\"marker\":{\"colorbar\":{\"outlinewidth\":0,\"ticks\":\"\"}}}],\"scatterternary\":[{\"type\":\"scatterternary\",\"marker\":{\"colorbar\":{\"outlinewidth\":0,\"ticks\":\"\"}}}],\"scattercarpet\":[{\"type\":\"scattercarpet\",\"marker\":{\"colorbar\":{\"outlinewidth\":0,\"ticks\":\"\"}}}],\"carpet\":[{\"aaxis\":{\"endlinecolor\":\"#2a3f5f\",\"gridcolor\":\"white\",\"linecolor\":\"white\",\"minorgridcolor\":\"white\",\"startlinecolor\":\"#2a3f5f\"},\"baxis\":{\"endlinecolor\":\"#2a3f5f\",\"gridcolor\":\"white\",\"linecolor\":\"white\",\"minorgridcolor\":\"white\",\"startlinecolor\":\"#2a3f5f\"},\"type\":\"carpet\"}],\"table\":[{\"cells\":{\"fill\":{\"color\":\"#EBF0F8\"},\"line\":{\"color\":\"white\"}},\"header\":{\"fill\":{\"color\":\"#C8D4E3\"},\"line\":{\"color\":\"white\"}},\"type\":\"table\"}],\"barpolar\":[{\"marker\":{\"line\":{\"color\":\"#E5ECF6\",\"width\":0.5},\"pattern\":{\"fillmode\":\"overlay\",\"size\":10,\"solidity\":0.2}},\"type\":\"barpolar\"}],\"pie\":[{\"automargin\":true,\"type\":\"pie\"}]},\"layout\":{\"autotypenumbers\":\"strict\",\"colorway\":[\"#636efa\",\"#EF553B\",\"#00cc96\",\"#ab63fa\",\"#FFA15A\",\"#19d3f3\",\"#FF6692\",\"#B6E880\",\"#FF97FF\",\"#FECB52\"],\"font\":{\"color\":\"#2a3f5f\"},\"hovermode\":\"closest\",\"hoverlabel\":{\"align\":\"left\"},\"paper_bgcolor\":\"white\",\"plot_bgcolor\":\"#E5ECF6\",\"polar\":{\"bgcolor\":\"#E5ECF6\",\"angularaxis\":{\"gridcolor\":\"white\",\"linecolor\":\"white\",\"ticks\":\"\"},\"radialaxis\":{\"gridcolor\":\"white\",\"linecolor\":\"white\",\"ticks\":\"\"}},\"ternary\":{\"bgcolor\":\"#E5ECF6\",\"aaxis\":{\"gridcolor\":\"white\",\"linecolor\":\"white\",\"ticks\":\"\"},\"baxis\":{\"gridcolor\":\"white\",\"linecolor\":\"white\",\"ticks\":\"\"},\"caxis\":{\"gridcolor\":\"white\",\"linecolor\":\"white\",\"ticks\":\"\"}},\"coloraxis\":{\"colorbar\":{\"outlinewidth\":0,\"ticks\":\"\"}},\"colorscale\":{\"sequential\":[[0.0,\"#0d0887\"],[0.1111111111111111,\"#46039f\"],[0.2222222222222222,\"#7201a8\"],[0.3333333333333333,\"#9c179e\"],[0.4444444444444444,\"#bd3786\"],[0.5555555555555556,\"#d8576b\"],[0.6666666666666666,\"#ed7953\"],[0.7777777777777778,\"#fb9f3a\"],[0.8888888888888888,\"#fdca26\"],[1.0,\"#f0f921\"]],\"sequentialminus\":[[0.0,\"#0d0887\"],[0.1111111111111111,\"#46039f\"],[0.2222222222222222,\"#7201a8\"],[0.3333333333333333,\"#9c179e\"],[0.4444444444444444,\"#bd3786\"],[0.5555555555555556,\"#d8576b\"],[0.6666666666666666,\"#ed7953\"],[0.7777777777777778,\"#fb9f3a\"],[0.8888888888888888,\"#fdca26\"],[1.0,\"#f0f921\"]],\"diverging\":[[0,\"#8e0152\"],[0.1,\"#c51b7d\"],[0.2,\"#de77ae\"],[0.3,\"#f1b6da\"],[0.4,\"#fde0ef\"],[0.5,\"#f7f7f7\"],[0.6,\"#e6f5d0\"],[0.7,\"#b8e186\"],[0.8,\"#7fbc41\"],[0.9,\"#4d9221\"],[1,\"#276419\"]]},\"xaxis\":{\"gridcolor\":\"white\",\"linecolor\":\"white\",\"ticks\":\"\",\"title\":{\"standoff\":15},\"zerolinecolor\":\"white\",\"automargin\":true,\"zerolinewidth\":2},\"yaxis\":{\"gridcolor\":\"white\",\"linecolor\":\"white\",\"ticks\":\"\",\"title\":{\"standoff\":15},\"zerolinecolor\":\"white\",\"automargin\":true,\"zerolinewidth\":2},\"scene\":{\"xaxis\":{\"backgroundcolor\":\"#E5ECF6\",\"gridcolor\":\"white\",\"linecolor\":\"white\",\"showbackground\":true,\"ticks\":\"\",\"zerolinecolor\":\"white\",\"gridwidth\":2},\"yaxis\":{\"backgroundcolor\":\"#E5ECF6\",\"gridcolor\":\"white\",\"linecolor\":\"white\",\"showbackground\":true,\"ticks\":\"\",\"zerolinecolor\":\"white\",\"gridwidth\":2},\"zaxis\":{\"backgroundcolor\":\"#E5ECF6\",\"gridcolor\":\"white\",\"linecolor\":\"white\",\"showbackground\":true,\"ticks\":\"\",\"zerolinecolor\":\"white\",\"gridwidth\":2}},\"shapedefaults\":{\"line\":{\"color\":\"#2a3f5f\"}},\"annotationdefaults\":{\"arrowcolor\":\"#2a3f5f\",\"arrowhead\":0,\"arrowwidth\":1},\"geo\":{\"bgcolor\":\"white\",\"landcolor\":\"#E5ECF6\",\"subunitcolor\":\"white\",\"showland\":true,\"showlakes\":true,\"lakecolor\":\"white\"},\"title\":{\"x\":0.05},\"mapbox\":{\"style\":\"light\"}}},\"legend\":{\"orientation\":\"h\"},\"yaxis\":{\"title\":{\"text\":\"\\u30aa\\u30c3\\u30ba\\u306e\\u548c\"},\"side\":\"left\"},\"yaxis2\":{\"title\":{\"text\":\"\\u6255\\u623b\\u91d1\"},\"side\":\"right\",\"overlaying\":\"y\",\"tickmode\":\"sync\",\"type\":\"log\"}},                        {\"responsive\": true}                    ).then(function(){\n",
       "                            \n",
       "var gd = document.getElementById('db4b9582-b30b-47d9-80c4-b24e256e6414');\n",
       "var x = new MutationObserver(function (mutations, observer) {{\n",
       "        var display = window.getComputedStyle(gd).display;\n",
       "        if (!display || display === 'none') {{\n",
       "            console.log([gd, 'removed!']);\n",
       "            Plotly.purge(gd);\n",
       "            observer.disconnect();\n",
       "        }}\n",
       "}});\n",
       "\n",
       "// Listen for the removal of the full notebook cells\n",
       "var notebookContainer = gd.closest('#notebook-container');\n",
       "if (notebookContainer) {{\n",
       "    x.observe(notebookContainer, {childList: true});\n",
       "}}\n",
       "\n",
       "// Listen for the clearing of the current output cell\n",
       "var outputEl = gd.closest('.output');\n",
       "if (outputEl) {{\n",
       "    x.observe(outputEl, {childList: true});\n",
       "}}\n",
       "\n",
       "                        })                };                });            </script>        </div>"
      ]
     },
     "metadata": {},
     "output_type": "display_data"
    }
   ],
   "source": [
    "\n",
    "fig = go.Figure(\n",
    "        data=go.Bar(\n",
    "            x=x_axis,\n",
    "            y=odds_sum,\n",
    "            name=\"オッズの和\",\n",
    "            marker=dict(color=\"green\"),\n",
    "        )\n",
    "    )\n",
    "\n",
    "fig.add_trace(\n",
    "    go.Scatter(\n",
    "        x=x_axis,\n",
    "        y=refunds,\n",
    "        yaxis=\"y2\",\n",
    "        name=\"払戻金\",\n",
    "        marker=dict(color=\"crimson\"),\n",
    "        hovertext=refunds_kanji\n",
    "    )\n",
    ")\n",
    "fig.update_layout(\n",
    "    legend=dict(orientation=\"h\"),\n",
    "    yaxis=dict(\n",
    "        title=dict(text=\"オッズの和\"),\n",
    "        side=\"left\"\n",
    "    ),\n",
    "    yaxis2=dict(\n",
    "        title=dict(text=\"払戻金\"),\n",
    "        side=\"right\",\n",
    "        overlaying=\"y\",\n",
    "        tickmode=\"sync\",\n",
    "        type='log'\n",
    "    ),\n",
    ")\n",
    "# fig.update_yaxes(type='log')\n",
    "fig.show()"
   ]
  },
  {
   "cell_type": "code",
   "execution_count": null,
   "id": "5c098f22-e855-4c88-9cb9-4cc9ebf622a5",
   "metadata": {},
   "outputs": [],
   "source": []
  },
  {
   "cell_type": "code",
   "execution_count": 81,
   "id": "daf1e0eb-d517-4e98-b765-c8cd1626b011",
   "metadata": {},
   "outputs": [],
   "source": [
    "tmp = sorted(jockey_win_nums.items(),  key = lambda item : item[1], reverse=True)"
   ]
  },
  {
   "cell_type": "code",
   "execution_count": 94,
   "id": "fe7e7382-30c1-49da-81f8-988424dd3137",
   "metadata": {},
   "outputs": [
    {
     "data": {
      "text/plain": [
       "['川田',\n",
       " '戸崎圭',\n",
       " 'キング',\n",
       " 'ルメー',\n",
       " '酒井',\n",
       " '横山典',\n",
       " '大野',\n",
       " '西村淳',\n",
       " '斎藤',\n",
       " '丹内',\n",
       " '岩田康',\n",
       " '津村',\n",
       " '岩田望',\n",
       " '横山和',\n",
       " '松岡',\n",
       " '富田',\n",
       " '坂井',\n",
       " '吉田豊',\n",
       " '丸山',\n",
       " 'Ｍデム',\n",
       " '藤岡佑',\n",
       " '和田竜',\n",
       " '松山',\n",
       " '横山武',\n",
       " '武豊',\n",
       " '菅原明',\n",
       " 'ピーヒ',\n",
       " '池添',\n",
       " '杉原',\n",
       " '団野',\n",
       " '北村友',\n",
       " '田口',\n",
       " 'ムルザ',\n",
       " '北村宏',\n",
       " '菱田',\n",
       " '吉村',\n",
       " '田辺',\n",
       " '鮫島駿',\n",
       " 'モレイ']"
      ]
     },
     "execution_count": 94,
     "metadata": {},
     "output_type": "execute_result"
    }
   ],
   "source": [
    "[j[0] for j in tmp]"
   ]
  },
  {
   "cell_type": "code",
   "execution_count": null,
   "id": "0e3ace29-c571-4d8e-9d2c-7c50267a535b",
   "metadata": {},
   "outputs": [],
   "source": []
  }
 ],
 "metadata": {
  "kernelspec": {
   "display_name": "Python 3 (ipykernel)",
   "language": "python",
   "name": "python3"
  },
  "language_info": {
   "codemirror_mode": {
    "name": "ipython",
    "version": 3
   },
   "file_extension": ".py",
   "mimetype": "text/x-python",
   "name": "python",
   "nbconvert_exporter": "python",
   "pygments_lexer": "ipython3",
   "version": "3.12.2"
  }
 },
 "nbformat": 4,
 "nbformat_minor": 5
}
