{
 "cells": [
  {
   "cell_type": "code",
   "execution_count": 4,
   "id": "db637d0a-bbf3-4def-85ad-4049b9f472b8",
   "metadata": {},
   "outputs": [],
   "source": [
    "import json\n",
    "import pandas as pd\n",
    "import matplotlib.pyplot as plt"
   ]
  },
  {
   "cell_type": "code",
   "execution_count": 24,
   "id": "b3327cfd-5618-461b-bbba-cefea41d69a6",
   "metadata": {},
   "outputs": [],
   "source": [
    "\n",
    "with open('./result.json' , 'r') as jsonf:\n",
    "    result_json = json.load(jsonf)\n"
   ]
  },
  {
   "cell_type": "code",
   "execution_count": 47,
   "id": "8797e0f7-a256-4692-bed5-443fdcce861e",
   "metadata": {},
   "outputs": [
    {
     "name": "stdout",
     "output_type": "stream",
     "text": [
      "20231228\n",
      "3090万1280円\n",
      "20231224\n",
      "647万2370円\n",
      "20231217\n",
      "15万7670円\n",
      "20231210\n",
      "186万1490円\n",
      "20231203\n",
      "129万8580円\n",
      "20231126\n",
      "10万2610円\n",
      "20231119\n",
      "284万7290円\n",
      "20231112\n",
      "1646万8660円\n",
      "20231105\n",
      "60万6950円\n",
      "20231029\n",
      "356万5380円\n",
      "20231022\n",
      "275万4690円\n",
      "20231015\n",
      "6万930円\n",
      "20231009\n",
      "173万2470円\n",
      "20231008\n",
      "23万3070円\n",
      "20231001\n",
      "263万8040円\n",
      "20230924\n",
      "4億2878万3320円\n",
      "20230918\n",
      "1万5380円\n",
      "20230917\n",
      "2666万220円\n",
      "20230910\n",
      "4億2318万30円\n",
      "20230903\n",
      "6491万6140円\n",
      "20230827\n",
      "45万1740円\n",
      "20230820\n",
      "312万9930円\n",
      "20230813\n",
      "1314万1500円\n",
      "20230806\n",
      "202万9470円\n",
      "20230730\n",
      "365万6700円\n",
      "20230723\n",
      "2億1884万7050円\n",
      "20230716\n",
      "4113万6700円\n",
      "20230709\n",
      "827万1490円\n",
      "20230702\n",
      "307万7600円\n",
      "20230625\n",
      "9万9890円\n",
      "20230618\n",
      "4万9270円\n",
      "20230611\n",
      "93万9220円\n",
      "20230604\n",
      "31万8470円\n",
      "20230528\n",
      "58万7470円\n",
      "20230521\n",
      "4219万5310円\n",
      "20230514\n",
      "57万9080円\n",
      "20230507\n",
      "7531万3210円\n",
      "20230430\n",
      "41万8250円\n",
      "20230423\n",
      "75万1130円\n",
      "20230416\n",
      "5万2000円\n",
      "20230409\n",
      "49万5340円\n",
      "20230402\n",
      "307万4250円\n",
      "20230326\n",
      "3848万5560円\n",
      "20230319\n",
      "235万70円\n",
      "20230312\n",
      "74万1550円\n",
      "20230305\n",
      "1804万1510円\n",
      "20230226\n",
      "7万530円\n",
      "20230219\n",
      "5万7020円\n",
      "20230212\n",
      "27万6330円\n",
      "20230205\n",
      "10万2930円\n",
      "20230129\n",
      "2万9690円\n",
      "20230122\n",
      "484万8540円\n",
      "20230115\n",
      "82万2240円\n",
      "20230109\n",
      "3393万2890円\n",
      "20230108\n",
      "1316万9410円\n",
      "20230105\n",
      "17万9610円\n"
     ]
    }
   ],
   "source": [
    "for data in result_json['win5_data_list']:\n",
    "    print(data['win5_id'])\n",
    "    refund = data['refund']\n",
    "    print(refund)\n",
    "    # print(data['race_name'])\n",
    "    # print(data['popular'])\n",
    "    # print(data['number'])\n",
    "    # print(data['bracket'])"
   ]
  },
  {
   "cell_type": "code",
   "execution_count": 51,
   "id": "127838ad-437f-4c78-8548-efb37c4cbbbc",
   "metadata": {},
   "outputs": [],
   "source": [
    "def kanji_yen_to_number(kanji_yen):\n",
    "    oku = 0\n",
    "    man = 0\n",
    "    en = 0\n",
    "    if '億' in kanji_yen:\n",
    "        temp = kanji_yen.split('億')\n",
    "        oku = int(temp[0]) * 100000000\n",
    "        kanji_yen = temp[1]\n",
    "    if '万' in kanji_yen:\n",
    "        temp = kanji_yen.split('万')\n",
    "        man = int(temp[0]) * 10000\n",
    "        kanji_yen = temp[1] \n",
    "    en = int(kanji_yen.rstrip('円'))\n",
    "    res = oku + man + en\n",
    "    print(res)\n",
    "    \n",
    "        \n",
    "        "
   ]
  },
  {
   "cell_type": "code",
   "execution_count": 53,
   "id": "77e4bbda-6f86-4009-b126-7d5164f8b98f",
   "metadata": {},
   "outputs": [
    {
     "name": "stdout",
     "output_type": "stream",
     "text": [
      "428783320\n"
     ]
    }
   ],
   "source": [
    "kanji_yen_to_number('4億2878万3320')"
   ]
  },
  {
   "cell_type": "code",
   "execution_count": null,
   "id": "150f58bd-f00c-4157-b98f-0ec441ed3334",
   "metadata": {},
   "outputs": [],
   "source": []
  }
 ],
 "metadata": {
  "kernelspec": {
   "display_name": "Python 3 (ipykernel)",
   "language": "python",
   "name": "python3"
  },
  "language_info": {
   "codemirror_mode": {
    "name": "ipython",
    "version": 3
   },
   "file_extension": ".py",
   "mimetype": "text/x-python",
   "name": "python",
   "nbconvert_exporter": "python",
   "pygments_lexer": "ipython3",
   "version": "3.11.5"
  }
 },
 "nbformat": 4,
 "nbformat_minor": 5
}
