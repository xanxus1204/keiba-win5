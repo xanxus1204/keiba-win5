{
 "cells": [
  {
   "cell_type": "code",
   "execution_count": 129,
   "metadata": {},
   "outputs": [],
   "source": [
    "import pandas as pd\n",
    "from collections import defaultdict\n",
    "import re\n",
    "import pathlib\n",
    "import matplotlib.pyplot as plt\n",
    "import os"
   ]
  },
  {
   "cell_type": "code",
   "execution_count": 130,
   "metadata": {},
   "outputs": [],
   "source": [
    "def divide_to_place(dir):\n",
    "    p = pathlib.Path(dir)\n",
    "    data = {'京都':[], '中山':[], '東京':[], '小倉':[], '阪神':[], '中京': []}\n",
    "    for json_file in p.glob('*.json'):\n",
    "        json_file = str(json_file)\n",
    "        place = os.path.basename(json_file)[8:10]\n",
    "        if place in data:\n",
    "            data[place].append(json_file)\n",
    "    return data\n",
    "    "
   ]
  },
  {
   "cell_type": "code",
   "execution_count": 131,
   "metadata": {},
   "outputs": [],
   "source": [
    "def divide_to_hold(race_by_place):\n",
    "    res = {'京都':[], '中山':[], '東京':[], '小倉':[], '阪神':[], '中京': []}\n",
    "    for place in race_by_place.keys():\n",
    "        hold_counts = []\n",
    "        before = 0\n",
    "        tmp = []\n",
    "        for js in sorted(race_by_place[place]):\n",
    "            day_pat = re.search(r'-(\\d{1,2})', js)\n",
    "            day = int(day_pat.groups()[0])\n",
    "            if day < before:\n",
    "                hold_counts.append(tmp)\n",
    "                tmp = []\n",
    "                tmp.append(js)\n",
    "                before = 0\n",
    "            else:\n",
    "                before = day\n",
    "                tmp.append(js)\n",
    "        else:\n",
    "            hold_counts.append(tmp)\n",
    "        res[place] = hold_counts\n",
    "    return res"
   ]
  },
  {
   "cell_type": "code",
   "execution_count": 132,
   "metadata": {},
   "outputs": [],
   "source": [
    "race_by_place = divide_to_place('./json')\n",
    "race_by_holds =  divide_to_hold(race_by_place)"
   ]
  },
  {
   "cell_type": "code",
   "execution_count": 133,
   "metadata": {},
   "outputs": [],
   "source": [
    "##param array of json file path\n",
    "## param groud = '芝' or ダ\n",
    "def get_number_1st(race_by_hold, ground):\n",
    "    res = defaultdict(int)\n",
    "    for json_file in race_by_hold:\n",
    "        df = pd.read_json(json_file)\n",
    "        if df.isnull().values.sum() != 0:\n",
    "            continue\n",
    "        df = df[df['condition'].str.contains(ground)]\n",
    "        for _ , row in df.iterrows():\n",
    "            waku = row[3]\n",
    "            if waku[0] == '':\n",
    "                raise 'Error'\n",
    "            res[int(waku[0])] += 1\n",
    "    return sorted(res.items(), key=lambda x:x[0])"
   ]
  },
  {
   "cell_type": "code",
   "execution_count": 134,
   "metadata": {},
   "outputs": [],
   "source": [
    "t = get_number_1st(race_by_holds['中山'][1], '芝')"
   ]
  },
  {
   "cell_type": "code",
   "execution_count": 138,
   "metadata": {},
   "outputs": [],
   "source": [
    "##param array of json file path\n",
    "## param groud = '芝' or ダ\n",
    "def get_kyaku_1st(race_by_hold, ground):\n",
    "    res = defaultdict(int)\n",
    "    for json_file in race_by_hold:\n",
    "        df = pd.read_json(json_file)\n",
    "        if df.isnull().values.sum() != 0:\n",
    "            continue\n",
    "        df = df[df['condition'].str.contains(ground)]\n",
    "        for _ , row in df.iterrows():\n",
    "            kyaku = row[4]\n",
    "            if kyaku[0] == '':\n",
    "                raise 'Error'\n",
    "            res[kyaku[0]] += 1\n",
    "        print(res)\n",
    "    return sorted(res.items(), key=lambda x:x[0])"
   ]
  },
  {
   "cell_type": "code",
   "execution_count": 139,
   "metadata": {},
   "outputs": [
    {
     "name": "stdout",
     "output_type": "stream",
     "text": [
      "defaultdict(<class 'int'>, {'10': 5})\n",
      "defaultdict(<class 'int'>, {'10': 10})\n",
      "defaultdict(<class 'int'>, {'10': 14})\n",
      "defaultdict(<class 'int'>, {'10': 19})\n",
      "defaultdict(<class 'int'>, {'10': 24})\n",
      "defaultdict(<class 'int'>, {'10': 29})\n",
      "defaultdict(<class 'int'>, {'10': 33})\n",
      "defaultdict(<class 'int'>, {'10': 37})\n",
      "defaultdict(<class 'int'>, {'10': 42})\n"
     ]
    },
    {
     "data": {
      "text/plain": [
       "[('10', 42)]"
      ]
     },
     "execution_count": 139,
     "metadata": {},
     "output_type": "execute_result"
    }
   ],
   "source": [
    "get_kyaku_1st(race_by_holds['中山'][1], '芝')"
   ]
  },
  {
   "cell_type": "code",
   "execution_count": 119,
   "metadata": {},
   "outputs": [
    {
     "data": {
      "text/plain": [
       "['20200105中山-1日目.json',\n",
       " '20200106中山-2日目.json',\n",
       " '20200111中山-3日目.json',\n",
       " '20200112中山-4日目.json',\n",
       " '20200113中山-5日目.json',\n",
       " '20200118中山-6日目.json',\n",
       " '20200119中山-7日目.json',\n",
       " '20200125中山-8日目.json',\n",
       " '20200126中山-9日目.json']"
      ]
     },
     "execution_count": 119,
     "metadata": {},
     "output_type": "execute_result"
    }
   ],
   "source": [
    "race_by_holds['中山'][0]"
   ]
  },
  {
   "cell_type": "code",
   "execution_count": 141,
   "metadata": {},
   "outputs": [
    {
     "name": "stdout",
     "output_type": "stream",
     "text": [
      "['先', '先', '差']\n",
      "['差', '先', '逃']\n",
      "['先', '先', '先']\n",
      "['大', '先', '先']\n",
      "['先', '先', '差']\n",
      "['先', '先', '先']\n",
      "['差', '差', '差']\n",
      "['先', '先', '逃']\n",
      "['先', '逃', '先']\n",
      "['逃', '追', '差']\n",
      "['差', '差', '先']\n",
      "['差', '追', '先']\n"
     ]
    }
   ],
   "source": [
    "for _ , row in df.iterrows():\n",
    "    print(row[4])\n",
    "        "
   ]
  },
  {
   "cell_type": "code",
   "execution_count": null,
   "metadata": {},
   "outputs": [],
   "source": []
  }
 ],
 "metadata": {
  "kernelspec": {
   "display_name": "Python 3",
   "language": "python",
   "name": "python3"
  },
  "language_info": {
   "codemirror_mode": {
    "name": "ipython",
    "version": 3
   },
   "file_extension": ".py",
   "mimetype": "text/x-python",
   "name": "python",
   "nbconvert_exporter": "python",
   "pygments_lexer": "ipython3",
   "version": "3.7.3"
  }
 },
 "nbformat": 4,
 "nbformat_minor": 2
}
